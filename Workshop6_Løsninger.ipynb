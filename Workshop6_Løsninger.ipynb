{
  "nbformat": 4,
  "nbformat_minor": 0,
  "metadata": {
    "colab": {
      "provenance": [],
      "authorship_tag": "ABX9TyOn1Iqvlvuw7VUWybpv3+XU",
      "include_colab_link": true
    },
    "kernelspec": {
      "name": "python3",
      "display_name": "Python 3"
    },
    "language_info": {
      "name": "python"
    }
  },
  "cells": [
    {
      "cell_type": "markdown",
      "metadata": {
        "id": "view-in-github",
        "colab_type": "text"
      },
      "source": [
        "<a href=\"https://colab.research.google.com/github/louisehviid/KM2023/blob/main/Workshop6_L%C3%B8sninger.ipynb\" target=\"_parent\"><img src=\"https://colab.research.google.com/assets/colab-badge.svg\" alt=\"Open In Colab\"/></a>"
      ]
    },
    {
      "cell_type": "markdown",
      "source": [
        "Forslag til hvordan opgave 7.106 og 7.112 kan løses i python."
      ],
      "metadata": {
        "id": "djb0jOig6vpc"
      }
    },
    {
      "cell_type": "code",
      "source": [
        "#Opgave 7.106\n",
        "#Her skal I bruge binormial cdf\n",
        "\n",
        "from scipy.stats import binom\n",
        "\n",
        "n, p = 25, 0.3\n",
        "\n",
        "#a)\n",
        "prob_10 = binom.cdf(10, n, p)\n",
        "print(round(prob_10, 4))\n",
        "\n",
        "#b)\n",
        "prob_11 = 1-prob_10\n",
        "print(round(prob_11, 4))\n",
        "\n",
        "#c) \n",
        "prob_10_sharp =prob_10-binom.cdf(9, n, p)\n",
        "print(round(prob_10_sharp, 4))"
      ],
      "metadata": {
        "colab": {
          "base_uri": "https://localhost:8080/"
        },
        "id": "vE9mVpRW68-m",
        "outputId": "865dba3e-b756-46d5-e9b7-463445298ba4"
      },
      "execution_count": 1,
      "outputs": [
        {
          "output_type": "stream",
          "name": "stdout",
          "text": [
            "0.9022\n",
            "0.0978\n",
            "0.0916\n"
          ]
        }
      ]
    },
    {
      "cell_type": "code",
      "execution_count": 9,
      "metadata": {
        "colab": {
          "base_uri": "https://localhost:8080/"
        },
        "id": "_Vq3AsBU6p8C",
        "outputId": "767cd82a-3e3e-45c3-c102-0598ec1b7938"
      },
      "outputs": [
        {
          "output_type": "stream",
          "name": "stdout",
          "text": [
            "0.0302\n",
            "0.2746\n",
            "0.3033\n"
          ]
        }
      ],
      "source": [
        "#Opgave 7.122\n",
        "#Her skal I bruge poisson cdf \n",
        "from scipy.stats import poisson\n",
        "\n",
        "#a)\n",
        "mu = 3.5\n",
        "prob_0 = poisson.cdf(0, mu)\n",
        "print(round(prob_0, 4))\n",
        "\n",
        "#b) \n",
        "mu = 3.5\n",
        "prob_5= 1- poisson.cdf(4, mu)\n",
        "print(round(prob_5, 4))\n",
        "\n",
        "#c) \n",
        "mu = 3.5\n",
        "prob_1=poisson.cdf(1, mu/7)-poisson.cdf(0, mu/7)\n",
        "print(round(prob_1, 4))\n"
      ]
    }
  ]
}