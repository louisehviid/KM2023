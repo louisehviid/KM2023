{
  "nbformat": 4,
  "nbformat_minor": 0,
  "metadata": {
    "colab": {
      "provenance": [],
      "authorship_tag": "ABX9TyOQUl5X3qlwgOQt2pMs2vyB",
      "include_colab_link": true
    },
    "kernelspec": {
      "name": "python3",
      "display_name": "Python 3"
    },
    "language_info": {
      "name": "python"
    }
  },
  "cells": [
    {
      "cell_type": "markdown",
      "metadata": {
        "id": "view-in-github",
        "colab_type": "text"
      },
      "source": [
        "<a href=\"https://colab.research.google.com/github/louisehviid/KM2023/blob/main/Workshop7.ipynb\" target=\"_parent\"><img src=\"https://colab.research.google.com/assets/colab-badge.svg\" alt=\"Open In Colab\"/></a>"
      ]
    },
    {
      "cell_type": "markdown",
      "source": [
        "# Introduktion\n",
        "\n",
        "Igen i dag, skal I bruge eksempler fra forelæsningen til at guide jer gennem opgaverne. Vi har endvidere fundet nogle link der kan give jer et hint om, hvordan I kan gribe nogle af opgaverne an."
      ],
      "metadata": {
        "id": "IthCzw9bFLSY"
      }
    },
    {
      "cell_type": "code",
      "execution_count": null,
      "metadata": {
        "id": "YTxRYSjBFGOs"
      },
      "outputs": [],
      "source": [
        "#opgave 8.20\n",
        "\n",
        "#Link: https://docs.scipy.org/doc/scipy/reference/generated/scipy.stats.norm.html\n",
        "\n",
        "from scipy.stats import norm \n",
        "\n",
        "\n"
      ]
    },
    {
      "cell_type": "code",
      "source": [
        "#opgave 8.28\n",
        "\n"
      ],
      "metadata": {
        "id": "DuyS4C0ICifL"
      },
      "execution_count": null,
      "outputs": []
    },
    {
      "cell_type": "code",
      "source": [
        "#opgave 8.30 \n",
        "\n"
      ],
      "metadata": {
        "id": "VGqYNtv1Citj"
      },
      "execution_count": null,
      "outputs": []
    },
    {
      "cell_type": "code",
      "source": [
        "#opgave 8.40\n",
        "\n"
      ],
      "metadata": {
        "id": "rxmu3gCaCi2m"
      },
      "execution_count": null,
      "outputs": []
    },
    {
      "cell_type": "code",
      "source": [
        "#opgave 8.41\n",
        "#Prøv jer frem med forskellige værdier for norm.cdf(z) indtil at \n",
        "#norm.cdf(z)<0.08 \n"
      ],
      "metadata": {
        "id": "WUBR-X7qCi_9"
      },
      "execution_count": null,
      "outputs": []
    },
    {
      "cell_type": "code",
      "source": [
        "#opgave 8.44\n"
      ],
      "metadata": {
        "id": "7a2AFcavCjKb"
      },
      "execution_count": null,
      "outputs": []
    },
    {
      "cell_type": "code",
      "source": [
        "#opgave 8.85\n",
        "#Link: https://docs.scipy.org/doc/scipy/reference/generated/scipy.stats.t.html\n",
        "#Her skal I lave udregninger af kritisk værdier for t fordeling \n"
      ],
      "metadata": {
        "id": "HSDmkMebC_L5"
      },
      "execution_count": null,
      "outputs": []
    },
    {
      "cell_type": "code",
      "source": [
        "#opgave 8.86 \n"
      ],
      "metadata": {
        "id": "_LxmLEhFC_Ts"
      },
      "execution_count": null,
      "outputs": []
    },
    {
      "cell_type": "code",
      "source": [
        "#opgave 8.88 \n",
        "#Link: https://www.statology.org/chi-square-critical-value-python/\n",
        "#Her udregnner I igen kritiske værdier, men denne gang for chi square fordelingen.\n",
        "\n",
        "import scipy.stats\n"
      ],
      "metadata": {
        "id": "IAXc717_C_D6"
      },
      "execution_count": null,
      "outputs": []
    },
    {
      "cell_type": "code",
      "source": [
        "#opgave 8.89\n"
      ],
      "metadata": {
        "id": "6Lb4CX6XC_a9"
      },
      "execution_count": null,
      "outputs": []
    },
    {
      "cell_type": "code",
      "source": [
        "#opgave 8.91\n",
        "#Link:  https://docs.scipy.org/doc/scipy/reference/generated/scipy.stats.f.html\n",
        "# Her udregner I igen de kritiske værdier, men for f fordelingen. \n",
        "\n"
      ],
      "metadata": {
        "id": "bk-3v_nuC_jT"
      },
      "execution_count": null,
      "outputs": []
    },
    {
      "cell_type": "code",
      "source": [
        "#opgave 8.92\n"
      ],
      "metadata": {
        "id": "dtbTwto1D-22"
      },
      "execution_count": null,
      "outputs": []
    }
  ]
}