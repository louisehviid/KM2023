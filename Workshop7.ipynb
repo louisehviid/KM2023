{
  "nbformat": 4,
  "nbformat_minor": 0,
  "metadata": {
    "colab": {
      "provenance": [],
      "authorship_tag": "ABX9TyNJ320dmuM2nx63KTAECLMy",
      "include_colab_link": true
    },
    "kernelspec": {
      "name": "python3",
      "display_name": "Python 3"
    },
    "language_info": {
      "name": "python"
    }
  },
  "cells": [
    {
      "cell_type": "markdown",
      "metadata": {
        "id": "view-in-github",
        "colab_type": "text"
      },
      "source": [
        "<a href=\"https://colab.research.google.com/github/louisehviid/KM2023/blob/main/Workshop7.ipynb\" target=\"_parent\"><img src=\"https://colab.research.google.com/assets/colab-badge.svg\" alt=\"Open In Colab\"/></a>"
      ]
    },
    {
      "cell_type": "markdown",
      "source": [
        "# Introduktion\n",
        "\n",
        "Igen i dag, skal I bruge eksempler fra forelæsningen til at guide jer gennem opgaverne. Vi har endvidere fundet nogle link der kan give jer et hint om, hvordan I kan gribe nogle af opgaverne an."
      ],
      "metadata": {
        "id": "IthCzw9bFLSY"
      }
    },
    {
      "cell_type": "code",
      "execution_count": null,
      "metadata": {
        "id": "YTxRYSjBFGOs"
      },
      "outputs": [],
      "source": [
        "#opgave 8.20\n",
        "\n",
        "#Link: https://docs.scipy.org/doc/scipy/reference/generated/scipy.stats.norm.html\n",
        "\n",
        "from scipy.stats import norm \n",
        "\n",
        "\n",
        "\n"
      ]
    },
    {
      "cell_type": "code",
      "source": [
        "#opgave 8.28\n",
        "\n"
      ],
      "metadata": {
        "id": "DuyS4C0ICifL"
      },
      "execution_count": null,
      "outputs": []
    },
    {
      "cell_type": "code",
      "source": [
        "#opgave 8.30 \n",
        "\n"
      ],
      "metadata": {
        "id": "VGqYNtv1Citj"
      },
      "execution_count": null,
      "outputs": []
    },
    {
      "cell_type": "code",
      "source": [
        "#opgave 8.40\n",
        "\n"
      ],
      "metadata": {
        "id": "rxmu3gCaCi2m"
      },
      "execution_count": null,
      "outputs": []
    },
    {
      "cell_type": "code",
      "source": [
        "#opgave 8.41\n",
        "#Prøv jer frem med forskellige værdier for norm.cdf(z) indtil at \n",
        "#norm.cdf(z)<0.08 \n"
      ],
      "metadata": {
        "id": "WUBR-X7qCi_9"
      },
      "execution_count": null,
      "outputs": []
    },
    {
      "cell_type": "code",
      "source": [
        "#opgave 8.44\n"
      ],
      "metadata": {
        "id": "7a2AFcavCjKb"
      },
      "execution_count": null,
      "outputs": []
    },
    {
      "cell_type": "code",
      "source": [
        "#opgave 8.85\n",
        "#Link: https://docs.scipy.org/doc/scipy/reference/generated/scipy.stats.t.html\n",
        "#Her skal I lave udregninger af kritisk værdier for t fordeling \n",
        "#Som eksempel, viser vi løsningen af opgave a.\n",
        "\n",
        "from scipy.stats import t\n",
        "\n",
        "#a) \n",
        "print(round(t.ppf(1-0.10,15), 4))\n"
      ],
      "metadata": {
        "id": "HSDmkMebC_L5",
        "colab": {
          "base_uri": "https://localhost:8080/"
        },
        "outputId": "a6bcd9c5-1cfb-452c-eff1-d7cc85765026"
      },
      "execution_count": 1,
      "outputs": [
        {
          "output_type": "stream",
          "name": "stdout",
          "text": [
            "1.3406\n"
          ]
        }
      ]
    },
    {
      "cell_type": "code",
      "source": [
        "#opgave 8.86 \n",
        "#som eksemple på udregning af sandsynligheder for t-værdier, se løsning af opgave a.\n",
        "\n",
        "#a) \n",
        "print(round(1-t.cdf(2.12,df=64), 4))\n",
        "\n"
      ],
      "metadata": {
        "id": "_LxmLEhFC_Ts",
        "colab": {
          "base_uri": "https://localhost:8080/"
        },
        "outputId": "9faf8e35-620a-43b8-9bbb-06483ed12780"
      },
      "execution_count": 2,
      "outputs": [
        {
          "output_type": "stream",
          "name": "stdout",
          "text": [
            "0.0189\n"
          ]
        }
      ]
    },
    {
      "cell_type": "code",
      "source": [
        "#opgave 8.88 \n",
        "#Link: https://www.statology.org/chi-square-critical-value-python/\n",
        "#Her udregnner I igen kritiske værdier, men denne gang for chi square fordelingen.\n",
        "#Som eksemple, kan i se løsningsforslag til opgave a\n",
        "\n",
        "import scipy.stats\n",
        "\n",
        "#a) \n",
        "print(round(scipy.stats.chi2.ppf(1-0.25,66), 4))\n"
      ],
      "metadata": {
        "id": "IAXc717_C_D6",
        "colab": {
          "base_uri": "https://localhost:8080/"
        },
        "outputId": "686b3a4e-93b1-43b2-a5f4-18e1d9ef9bff"
      },
      "execution_count": 3,
      "outputs": [
        {
          "output_type": "stream",
          "name": "stdout",
          "text": [
            "73.3441\n"
          ]
        }
      ]
    },
    {
      "cell_type": "code",
      "source": [
        "#opgave 8.89\n",
        "#Som eksempel på hvordan i udregner sandsynligheder for chi square\n",
        "\n",
        "#a) \n",
        "print(round(1-scipy.stats.chi2.cdf(80,73), 4))\n"
      ],
      "metadata": {
        "id": "6Lb4CX6XC_a9",
        "colab": {
          "base_uri": "https://localhost:8080/"
        },
        "outputId": "a1e86746-2748-42ad-8883-78dace42e92b"
      },
      "execution_count": 4,
      "outputs": [
        {
          "output_type": "stream",
          "name": "stdout",
          "text": [
            "0.2688\n"
          ]
        }
      ]
    },
    {
      "cell_type": "code",
      "source": [
        "#opgave 8.91\n",
        "#Link:  https://docs.scipy.org/doc/scipy/reference/generated/scipy.stats.f.html\n",
        "# Her udregner I igen de kritiske værdier, men for f fordelingen. \n",
        "# Som eksempel på hvordan i udregner f-værdier, se løsningsforslag til opgave a.\n",
        "\n",
        "from scipy.stats import f\n",
        "\n",
        "#a) \n",
        "print(round(f.ppf(1-0.05,70,70), 4))\n",
        "\n",
        "\n"
      ],
      "metadata": {
        "id": "bk-3v_nuC_jT",
        "colab": {
          "base_uri": "https://localhost:8080/"
        },
        "outputId": "07092f3c-6a30-48ca-bdbc-28f4ea656389"
      },
      "execution_count": 5,
      "outputs": [
        {
          "output_type": "stream",
          "name": "stdout",
          "text": [
            "1.4857\n"
          ]
        }
      ]
    },
    {
      "cell_type": "code",
      "source": [
        "#opgave 8.92\n",
        "#Som eksempel på hvordan i udregner sandsynligheder for f-værdierne, se løsningsforslag til opgave a.\n",
        "\n",
        "#a) \n",
        "print(round(1-f.cdf(2.5,7,20), 4))\n"
      ],
      "metadata": {
        "id": "dtbTwto1D-22",
        "colab": {
          "base_uri": "https://localhost:8080/"
        },
        "outputId": "7db9eac7-28dc-4fe3-c1a0-580b38602531"
      },
      "execution_count": 6,
      "outputs": [
        {
          "output_type": "stream",
          "name": "stdout",
          "text": [
            "0.051\n"
          ]
        }
      ]
    }
  ]
}