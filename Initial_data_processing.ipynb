{
  "nbformat": 4,
  "nbformat_minor": 0,
  "metadata": {
    "colab": {
      "provenance": [],
      "authorship_tag": "ABX9TyMJTlJNTF6jty8AB0TQG26L",
      "include_colab_link": true
    },
    "kernelspec": {
      "name": "python3",
      "display_name": "Python 3"
    },
    "language_info": {
      "name": "python"
    }
  },
  "cells": [
    {
      "cell_type": "markdown",
      "metadata": {
        "id": "view-in-github",
        "colab_type": "text"
      },
      "source": [
        "<a href=\"https://colab.research.google.com/github/louisehviid/KM2023/blob/main/Initial_data_processing.ipynb\" target=\"_parent\"><img src=\"https://colab.research.google.com/assets/colab-badge.svg\" alt=\"Open In Colab\"/></a>"
      ]
    },
    {
      "cell_type": "code",
      "execution_count": 2,
      "metadata": {
        "id": "CzLpZvJ_wGMP"
      },
      "outputs": [],
      "source": [
        "import pandas as pd"
      ]
    },
    {
      "cell_type": "code",
      "source": [
        "#Read data\n",
        "data = pd.read_excel('https://raw.githubusercontent.com/louisehviid/km2023/main/data/general_society_survey.xlsx')\n"
      ],
      "metadata": {
        "id": "IciJ6jh7GDO2"
      },
      "execution_count": 5,
      "outputs": []
    },
    {
      "cell_type": "code",
      "source": [
        "\n",
        "data.info()\n"
      ],
      "metadata": {
        "colab": {
          "base_uri": "https://localhost:8080/"
        },
        "id": "dq0MI6QDH427",
        "outputId": "5169cce2-2ffc-4043-c210-0a61a1f6ad64"
      },
      "execution_count": 7,
      "outputs": [
        {
          "output_type": "stream",
          "name": "stdout",
          "text": [
            "<class 'pandas.core.frame.DataFrame'>\n",
            "RangeIndex: 2155 entries, 0 to 2154\n",
            "Data columns (total 29 columns):\n",
            " #   Column                     Non-Null Count  Dtype  \n",
            "---  ------                     --------------  -----  \n",
            " 0   Person ID                  2155 non-null   int64  \n",
            " 1   Family Composition         2136 non-null   float64\n",
            " 2   Population Base            2155 non-null   int64  \n",
            " 3   Sex                        2155 non-null   int64  \n",
            " 4   Age                        2155 non-null   int64  \n",
            " 5   Marital Status             2155 non-null   int64  \n",
            " 6   Student                    2155 non-null   int64  \n",
            " 7   Health                     2140 non-null   float64\n",
            " 8   Ethnic Group               2140 non-null   float64\n",
            " 9   Religion                   2140 non-null   float64\n",
            " 10  Economic Activity          2155 non-null   int64  \n",
            " 11  Occupation                 2155 non-null   int64  \n",
            " 12  Industry                   2155 non-null   int64  \n",
            " 13  Approximated Social Grade  2155 non-null   int64  \n",
            " 14  Unnamed: 14                0 non-null      float64\n",
            " 15  Unnamed: 15                0 non-null      float64\n",
            " 16  Unnamed: 16                0 non-null      float64\n",
            " 17  Unnamed: 17                0 non-null      float64\n",
            " 18  Unnamed: 18                0 non-null      float64\n",
            " 19  Unnamed: 19                0 non-null      float64\n",
            " 20  Unnamed: 20                0 non-null      float64\n",
            " 21  Unnamed: 21                0 non-null      float64\n",
            " 22  Unnamed: 22                0 non-null      float64\n",
            " 23  Unnamed: 23                0 non-null      float64\n",
            " 24  Unnamed: 24                0 non-null      float64\n",
            " 25  Unnamed: 25                0 non-null      float64\n",
            " 26  Unnamed: 26                0 non-null      float64\n",
            " 27  Unnamed: 27                0 non-null      float64\n",
            " 28  Unnamed: 28                10 non-null     float64\n",
            "dtypes: float64(19), int64(10)\n",
            "memory usage: 488.4 KB\n"
          ]
        },
        {
          "output_type": "execute_result",
          "data": {
            "text/plain": [
              "Index(['Person ID', 'Family Composition', 'Population Base', 'Sex', 'Age',\n",
              "       'Marital Status', 'Student', 'Health', 'Ethnic Group', 'Religion',\n",
              "       'Economic Activity', 'Occupation', 'Industry',\n",
              "       'Approximated Social Grade', 'Unnamed: 14', 'Unnamed: 15',\n",
              "       'Unnamed: 16', 'Unnamed: 17', 'Unnamed: 18', 'Unnamed: 19',\n",
              "       'Unnamed: 20', 'Unnamed: 21', 'Unnamed: 22', 'Unnamed: 23',\n",
              "       'Unnamed: 24', 'Unnamed: 25', 'Unnamed: 26', 'Unnamed: 27',\n",
              "       'Unnamed: 28'],\n",
              "      dtype='object')"
            ]
          },
          "metadata": {},
          "execution_count": 7
        }
      ]
    },
    {
      "cell_type": "code",
      "source": [
        "data.columns"
      ],
      "metadata": {
        "colab": {
          "base_uri": "https://localhost:8080/"
        },
        "id": "XU084cLwJAq0",
        "outputId": "0d4bd478-5d25-456c-e761-afcbd5d264ed"
      },
      "execution_count": 8,
      "outputs": [
        {
          "output_type": "execute_result",
          "data": {
            "text/plain": [
              "Index(['Person ID', 'Family Composition', 'Population Base', 'Sex', 'Age',\n",
              "       'Marital Status', 'Student', 'Health', 'Ethnic Group', 'Religion',\n",
              "       'Economic Activity', 'Occupation', 'Industry',\n",
              "       'Approximated Social Grade', 'Unnamed: 14', 'Unnamed: 15',\n",
              "       'Unnamed: 16', 'Unnamed: 17', 'Unnamed: 18', 'Unnamed: 19',\n",
              "       'Unnamed: 20', 'Unnamed: 21', 'Unnamed: 22', 'Unnamed: 23',\n",
              "       'Unnamed: 24', 'Unnamed: 25', 'Unnamed: 26', 'Unnamed: 27',\n",
              "       'Unnamed: 28'],\n",
              "      dtype='object')"
            ]
          },
          "metadata": {},
          "execution_count": 8
        }
      ]
    },
    {
      "cell_type": "markdown",
      "source": [],
      "metadata": {
        "id": "904tu5X2L3oU"
      }
    },
    {
      "cell_type": "code",
      "source": [
        "data.head"
      ],
      "metadata": {
        "colab": {
          "base_uri": "https://localhost:8080/"
        },
        "id": "SgPWtXKIJDv_",
        "outputId": "841f8fa5-31af-4d6f-88ae-7a1f49f6667c"
      },
      "execution_count": 9,
      "outputs": [
        {
          "output_type": "execute_result",
          "data": {
            "text/plain": [
              "<bound method NDFrame.head of       Person ID  Family Composition  Population Base  Sex  Age  \\\n",
              "0       7394816                 2.0                1    2    6   \n",
              "1       7394745                 5.0                1    1    4   \n",
              "2       7395066                 3.0                1    2    4   \n",
              "3       7395329                 3.0                1    2    2   \n",
              "4       7394712                 3.0                1    1    5   \n",
              "...         ...                 ...              ...  ...  ...   \n",
              "2150    7395997                 5.0                1    1    1   \n",
              "2151    7396353                 2.0                1    2    1   \n",
              "2152    7395467                 5.0                1    1    1   \n",
              "2153    7396302                 2.0                1    1    3   \n",
              "2154    7396504                 5.0                1    2    1   \n",
              "\n",
              "      Marital Status  Student  Health  Ethnic Group  Religion  ...  \\\n",
              "0                  2        2     2.0           1.0       2.0  ...   \n",
              "1                  1        2     1.0           1.0       2.0  ...   \n",
              "2                  1        2     1.0           1.0       1.0  ...   \n",
              "3                  1        2     2.0           1.0       2.0  ...   \n",
              "4                  4        2     1.0           1.0       2.0  ...   \n",
              "...              ...      ...     ...           ...       ...  ...   \n",
              "2150               1        1     1.0           2.0       2.0  ...   \n",
              "2151               1        2     1.0           2.0       6.0  ...   \n",
              "2152               1        1     1.0           1.0       9.0  ...   \n",
              "2153               2        1     1.0           3.0       9.0  ...   \n",
              "2154               1        1     1.0           1.0       2.0  ...   \n",
              "\n",
              "      Unnamed: 19  Unnamed: 20  Unnamed: 21  Unnamed: 22  Unnamed: 23  \\\n",
              "0             NaN          NaN          NaN          NaN          NaN   \n",
              "1             NaN          NaN          NaN          NaN          NaN   \n",
              "2             NaN          NaN          NaN          NaN          NaN   \n",
              "3             NaN          NaN          NaN          NaN          NaN   \n",
              "4             NaN          NaN          NaN          NaN          NaN   \n",
              "...           ...          ...          ...          ...          ...   \n",
              "2150          NaN          NaN          NaN          NaN          NaN   \n",
              "2151          NaN          NaN          NaN          NaN          NaN   \n",
              "2152          NaN          NaN          NaN          NaN          NaN   \n",
              "2153          NaN          NaN          NaN          NaN          NaN   \n",
              "2154          NaN          NaN          NaN          NaN          NaN   \n",
              "\n",
              "      Unnamed: 24  Unnamed: 25  Unnamed: 26  Unnamed: 27  Unnamed: 28  \n",
              "0             NaN          NaN          NaN          NaN          NaN  \n",
              "1             NaN          NaN          NaN          NaN          NaN  \n",
              "2             NaN          NaN          NaN          NaN          NaN  \n",
              "3             NaN          NaN          NaN          NaN          NaN  \n",
              "4             NaN          NaN          NaN          NaN          NaN  \n",
              "...           ...          ...          ...          ...          ...  \n",
              "2150          NaN          NaN          NaN          NaN          NaN  \n",
              "2151          NaN          NaN          NaN          NaN          NaN  \n",
              "2152          NaN          NaN          NaN          NaN          NaN  \n",
              "2153          NaN          NaN          NaN          NaN          NaN  \n",
              "2154          NaN          NaN          NaN          NaN          NaN  \n",
              "\n",
              "[2155 rows x 29 columns]>"
            ]
          },
          "metadata": {},
          "execution_count": 9
        }
      ]
    },
    {
      "cell_type": "code",
      "source": [
        "# Define a directory with old and new columns names\n",
        "\n",
        "column_rename_dict = {'Unnamed: 14': 'col_1',\n",
        "                      'Unnamed: 15': 'col_2',\n",
        "                      'Unnamed: 16': 'col_3',\n",
        "                      'Unnamed: 17': 'col_4',\n",
        "                      'Unnamed: 18': 'col_5',\n",
        "                      'Unnamed: 19': 'col_6',\n",
        "                      'Unnamed: 20': 'col_7',\n",
        "                      'Unnamed: 21': 'col_8',\n",
        "                      'Unnamed: 22': 'col_9',\n",
        "                      'Unnamed: 23': 'col_10',\n",
        "                      'Unnamed: 24': 'col_11',\n",
        "                      'Unnamed: 25': 'col_12',\n",
        "                      'Unnamed: 26': 'col_13',\n",
        "                      'Unnamed: 27': 'col_14',\n",
        "                      'Unnamed: 28': 'col_15'}\n"
      ],
      "metadata": {
        "id": "1Y2Zi4oJLt_D"
      },
      "execution_count": 20,
      "outputs": []
    },
    {
      "cell_type": "code",
      "source": [
        "# Rename the columns in the dataframe\n",
        "\n",
        "new_data = data.rename(columns=column_rename_dict)"
      ],
      "metadata": {
        "id": "WgtgKQlbN_E_"
      },
      "execution_count": 23,
      "outputs": []
    },
    {
      "cell_type": "code",
      "source": [
        "# Remove columns 'col_1', 'col_2', 'col_3', 'col_4'.... from the dataframe\n",
        "new_data = new_data.drop(columns=['col_1', 'col_2', 'col_3', 'col_4', 'col_5', 'col_6', 'col_7', 'col_8', 'col_9', 'col_10', 'col_11', 'col_12', 'col_13', 'col_14', 'col_15' ], axis=1)\n"
      ],
      "metadata": {
        "id": "Ka0JWJQNOkfc"
      },
      "execution_count": 25,
      "outputs": []
    },
    {
      "cell_type": "code",
      "source": [
        "new_data.head"
      ],
      "metadata": {
        "colab": {
          "base_uri": "https://localhost:8080/"
        },
        "id": "1hnHRPCfJqL5",
        "outputId": "a197f909-50e5-461c-e1f0-0011bb3d7ebb"
      },
      "execution_count": 27,
      "outputs": [
        {
          "output_type": "execute_result",
          "data": {
            "text/plain": [
              "<bound method NDFrame.head of       Person ID  Family Composition  Population Base  Sex  Age  \\\n",
              "0       7394816                 2.0                1    2    6   \n",
              "1       7394745                 5.0                1    1    4   \n",
              "2       7395066                 3.0                1    2    4   \n",
              "3       7395329                 3.0                1    2    2   \n",
              "4       7394712                 3.0                1    1    5   \n",
              "...         ...                 ...              ...  ...  ...   \n",
              "2150    7395997                 5.0                1    1    1   \n",
              "2151    7396353                 2.0                1    2    1   \n",
              "2152    7395467                 5.0                1    1    1   \n",
              "2153    7396302                 2.0                1    1    3   \n",
              "2154    7396504                 5.0                1    2    1   \n",
              "\n",
              "      Marital Status  Student  Health  Ethnic Group  Religion  \\\n",
              "0                  2        2     2.0           1.0       2.0   \n",
              "1                  1        2     1.0           1.0       2.0   \n",
              "2                  1        2     1.0           1.0       1.0   \n",
              "3                  1        2     2.0           1.0       2.0   \n",
              "4                  4        2     1.0           1.0       2.0   \n",
              "...              ...      ...     ...           ...       ...   \n",
              "2150               1        1     1.0           2.0       2.0   \n",
              "2151               1        2     1.0           2.0       6.0   \n",
              "2152               1        1     1.0           1.0       9.0   \n",
              "2153               2        1     1.0           3.0       9.0   \n",
              "2154               1        1     1.0           1.0       2.0   \n",
              "\n",
              "      Economic Activity  Occupation  Industry  Approximated Social Grade  \n",
              "0                     5           8         2                          4  \n",
              "1                     1           8         6                          3  \n",
              "2                     1           6        11                          4  \n",
              "3                     1           7         7                          2  \n",
              "4                     1           1         4                          2  \n",
              "...                 ...         ...       ...                        ...  \n",
              "2150                  1           6         5                          4  \n",
              "2151                  3           8         6                          4  \n",
              "2152                  1           2         2                          4  \n",
              "2153                  1           3         6                          3  \n",
              "2154                  1           4         9                          4  \n",
              "\n",
              "[2155 rows x 14 columns]>"
            ]
          },
          "metadata": {},
          "execution_count": 27
        }
      ]
    },
    {
      "cell_type": "code",
      "source": [
        "import matplotlib.pyplot as plt\n",
        "\n",
        "plt.boxplot(new_data.Age)\n",
        "plt.show()"
      ],
      "metadata": {
        "colab": {
          "base_uri": "https://localhost:8080/",
          "height": 265
        },
        "id": "m7Rzcb-uVrzI",
        "outputId": "81f97981-2974-4af1-f3fa-c66ba2722ffd"
      },
      "execution_count": 28,
      "outputs": [
        {
          "output_type": "display_data",
          "data": {
            "text/plain": [
              "<Figure size 432x288 with 1 Axes>"
            ],
            "image/png": "[encoded data removed]"
          },
          "metadata": {
            "needs_background": "light"
          }
        }
      ]
    },
    {
      "cell_type": "code",
      "source": [
        "\n",
        "\n",
        "plt.scatter(new_data.Age,new_data.Religion)"
      ],
      "metadata": {
        "colab": {
          "base_uri": "https://localhost:8080/",
          "height": 283
        },
        "id": "FwGtDKC4X0nb",
        "outputId": "b4a206b5-2066-458d-df02-329ef2e5de63"
      },
      "execution_count": 30,
      "outputs": [
        {
          "output_type": "execute_result",
          "data": {
            "text/plain": [
              "<matplotlib.collections.PathCollection at 0x7f39f56a2790>"
            ]
          },
          "metadata": {},
          "execution_count": 30
        },
        {
          "output_type": "display_data",
          "data": {
            "text/plain": [
              "<Figure size 432x288 with 1 Axes>"
            ],
            "image/png": "[encoded data removed]"
          },
          "metadata": {
            "needs_background": "light"
          }
        }
      ]
    }
  ]
}