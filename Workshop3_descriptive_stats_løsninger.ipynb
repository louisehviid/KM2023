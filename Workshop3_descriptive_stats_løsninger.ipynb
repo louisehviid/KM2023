{
  "nbformat": 4,
  "nbformat_minor": 0,
  "metadata": {
    "colab": {
      "provenance": [],
      "authorship_tag": "ABX9TyOF47c7nu3Ac2WNniBwso3N",
      "include_colab_link": true
    },
    "kernelspec": {
      "name": "python3",
      "display_name": "Python 3"
    },
    "language_info": {
      "name": "python"
    }
  },
  "cells": [
    {
      "cell_type": "markdown",
      "metadata": {
        "id": "view-in-github",
        "colab_type": "text"
      },
      "source": [
        "<a href=\"https://colab.research.google.com/github/louisehviid/KM2023/blob/main/Workshop3_descriptive_stats_l%C3%B8sninger.ipynb\" target=\"_parent\"><img src=\"https://colab.research.google.com/assets/colab-badge.svg\" alt=\"Open In Colab\"/></a>"
      ]
    },
    {
      "cell_type": "markdown",
      "source": [
        "# Introduktion til workshop 3"
      ],
      "metadata": {
        "id": "Bb7-C8aKNHef"
      }
    },
    {
      "cell_type": "markdown",
      "source": [
        "I denne colaboratory fil, viser vi nogle eksempler af hvordan I kan løse forskellige opgave typer ved brug af python. I kan bruge disse eksempler til at hjælpe jer på vej til at løse jeres egne opgaver.\n",
        "\n",
        "\n",
        "---\n",
        "\n",
        "Vi vil bruge pandas til at indlæse vores dataset og organisere dem, og vi vil bruge pandas og numpy til at lave nogle beregninger, og matplotlib til at visualisere vores beregninger i workshop 3 (kapitel 4)."
      ],
      "metadata": {
        "id": "quFf2KEMNTWU"
      }
    },
    {
      "cell_type": "markdown",
      "source": [
        "# Gennemsnit, Median og Modus"
      ],
      "metadata": {
        "id": "Mi49LruOQzQw"
      }
    },
    {
      "cell_type": "markdown",
      "source": [
        "Opgave 4.10 som eksempel på hvordan vi beregner gennemsnit, median, og modus."
      ],
      "metadata": {
        "id": "sanbrhv3Q4aa"
      }
    },
    {
      "cell_type": "code",
      "source": [
        "#Step 1\n",
        "#Import pandas og numpy\n",
        "\n",
        "import pandas as pd\n",
        "import numpy as np"
      ],
      "metadata": {
        "id": "7f6k4iNxBi4r"
      },
      "execution_count": null,
      "outputs": []
    },
    {
      "cell_type": "code",
      "execution_count": null,
      "metadata": {
        "id": "QcS4Ey_JM-oC"
      },
      "outputs": [],
      "source": [
        "#Step 2\n",
        "#Reading the excel file into a pandas dataframe\n",
        "data = pd.read_excel('https://raw.githubusercontent.com/louisehviid/km2023/main/data/Chapter4/Xr04-10.xlsx')\n"
      ]
    },
    {
      "cell_type": "code",
      "source": [
        "#Step 3\n",
        "#tag et kig på dataen\n",
        "\n",
        "data.head"
      ],
      "metadata": {
        "colab": {
          "base_uri": "https://localhost:8080/"
        },
        "id": "S6m9eJQDB3pj",
        "outputId": "caa7bf1e-4a76-482a-e7fd-a2563ea04d77"
      },
      "execution_count": null,
      "outputs": [
        {
          "output_type": "execute_result",
          "data": {
            "text/plain": [
              "<bound method NDFrame.head of      Bidders\n",
              "0         41\n",
              "1         56\n",
              "2         73\n",
              "3         51\n",
              "4         35\n",
              "..       ...\n",
              "151       18\n",
              "152       41\n",
              "153       65\n",
              "154       69\n",
              "155       47\n",
              "\n",
              "[156 rows x 1 columns]>"
            ]
          },
          "metadata": {},
          "execution_count": 3
        }
      ]
    },
    {
      "cell_type": "code",
      "source": [
        "#Step 4\n",
        "\n",
        "# Calculating the mean of the 'Bidders' \n",
        "mean = data['Bidders'].mean()\n",
        "print(\"Mean: \", mean)\n",
        "\n",
        "# Calculating the median of the 'Bidders' \n",
        "median = data['Bidders'].median()\n",
        "print(\"Median: \", median)\n",
        "\n",
        "# Calculating the mode of the 'Bidders' \n",
        "mode = data['Bidders'].mode().get(0)\n",
        "print(\"Mode: \", mode)\n"
      ],
      "metadata": {
        "colab": {
          "base_uri": "https://localhost:8080/"
        },
        "id": "xUQkSBMQC6la",
        "outputId": "177c7f3f-5ff2-4cbf-958c-b25412478cda"
      },
      "execution_count": null,
      "outputs": [
        {
          "output_type": "stream",
          "name": "stdout",
          "text": [
            "Mean:  54.91025641025641\n",
            "Median:  55.0\n",
            "Mode:  62\n"
          ]
        }
      ]
    },
    {
      "cell_type": "code",
      "source": [
        "#Step 5\n",
        "#vi kan lige visualisere disse, men så skal vi bruge det matplotlib library vi brugte i workshop 2\n",
        "import matplotlib.pyplot as plt\n",
        "\n",
        "# Creating a dictionary of the central tendencies and their values\n",
        "central_tendencies = {'Mean': mean, 'Median': median, 'Mode': mode}\n",
        "\n",
        "# Plotting the results\n",
        "plt.bar(central_tendencies.keys(), central_tendencies.values())\n",
        "plt.xlabel('Central Tendency')\n",
        "plt.ylabel('Value of Bids')\n",
        "plt.title('Measures of Central Tendency')\n",
        "\n",
        "# Displaying the graph\n",
        "plt.show()"
      ],
      "metadata": {
        "colab": {
          "base_uri": "https://localhost:8080/",
          "height": 295
        },
        "id": "zX1GcSHEEN2y",
        "outputId": "68e2ed48-c11f-463c-ee83-7502b9f03728"
      },
      "execution_count": null,
      "outputs": [
        {
          "output_type": "display_data",
          "data": {
            "text/plain": [
              "<Figure size 432x288 with 1 Axes>"
            ],
            "image/png": "[encoded data removed]"
          },
          "metadata": {
            "needs_background": "light"
          }
        }
      ]
    },
    {
      "cell_type": "code",
      "source": [
        "#Step 6\n",
        "\n",
        "#Det kan også være meget godt at se disse centrale tendense i konteksten af et histogram\n",
        "\n",
        "# Plotting the histogram of the 'bidders' data\n",
        "plt.hist(data['Bidders'], bins=20, edgecolor='black', alpha=0.5)\n",
        "\n",
        "# Adding vertical lines to represent the mean, median, and mode\n",
        "plt.axvline(mean, color='red', linestyle='--', label='mean')\n",
        "plt.axvline(median, color='green', linestyle='-', label='median')\n",
        "plt.axvline(mode, color='purple', linestyle=':', label='mode')\n",
        "\n",
        "# Adding a legend to the plot\n",
        "plt.legend()\n",
        "\n",
        "# Adding labels to the x-axis and y-axis\n",
        "plt.xlabel('Bids')\n",
        "plt.ylabel('Frequency')\n",
        "\n",
        "# Adding a title to the plot\n",
        "plt.title('Histogram with measures of mean, median and mode')\n",
        "\n",
        "# Displaying the plot\n",
        "plt.show()"
      ],
      "metadata": {
        "colab": {
          "base_uri": "https://localhost:8080/",
          "height": 295
        },
        "id": "xpIKxLd1FA-K",
        "outputId": "4fc643b9-6bcc-4e99-d0d8-6685b609790e"
      },
      "execution_count": null,
      "outputs": [
        {
          "output_type": "display_data",
          "data": {
            "text/plain": [
              "<Figure size 432x288 with 1 Axes>"
            ],
            "image/png": "[encoded data removed]"
          },
          "metadata": {
            "needs_background": "light"
          }
        }
      ]
    },
    {
      "cell_type": "code",
      "source": [
        "#Step 7\n",
        "#Hvad fortæller disse mål om denne stikprøve af bud på ugentlige aktioner?\n",
        "#Hvordan kan man fortolke disse mål af central tendens? Hvad fortæller de os?"
      ],
      "metadata": {
        "id": "nGIGoJdqG--6"
      },
      "execution_count": null,
      "outputs": []
    },
    {
      "cell_type": "code",
      "source": [
        "# Nu er det din tur, kan du løse opgave 4.12 (Dataset Xr04-12)\n",
        "import pandas as pd\n",
        "import numpy as np\n",
        "\n",
        "#Reading the excel file into a pandas dataframe\n",
        "data = pd.read_excel('https://raw.githubusercontent.com/louisehviid/km2023/main/data/Chapter4/Xr04-12.xlsx')\n",
        "\n",
        "data.head\n",
        "\n",
        "data.rename#Rename the column\n",
        "data.rename(columns={'Commute time': 'Commute_time'}, inplace=True)\n",
        "\n",
        "# Calculating the mean of Commute_time \n",
        "mean = data['Commute_time'].mean()\n",
        "print(\"Mean: \", mean)\n",
        "\n",
        "# Calculating the median of Commute_time \n",
        "median = data['Commute_time'].median()\n",
        "print(\"Median: \", median)\n",
        "\n",
        "\n",
        "\n"
      ],
      "metadata": {
        "id": "zA063Z5qIUyU",
        "colab": {
          "base_uri": "https://localhost:8080/"
        },
        "outputId": "182d1867-f79d-487e-f993-2becbfad7324"
      },
      "execution_count": null,
      "outputs": [
        {
          "output_type": "stream",
          "name": "stdout",
          "text": [
            "Mean:  45.60425531914893\n",
            "Median:  45.0\n",
            "Mode:  40\n"
          ]
        }
      ]
    },
    {
      "cell_type": "markdown",
      "source": [
        "We can conclude that the mean commuting time is 45.60 minutes and half of the sample took 45 minutes or less."
      ],
      "metadata": {
        "id": "GflLNfquEXoO"
      }
    },
    {
      "cell_type": "markdown",
      "source": [
        "# Varians og Standardafvigelse"
      ],
      "metadata": {
        "id": "VtNzzAsjJhSz"
      }
    },
    {
      "cell_type": "markdown",
      "source": [
        "Opgave 4.36 som eksempel på hvordan vi beregner varians og standardafvigelse. "
      ],
      "metadata": {
        "id": "y6t2wFxRrgeL"
      }
    },
    {
      "cell_type": "code",
      "source": [
        "#Step 1\n",
        "#Import libraries we need\n",
        "import pandas as pd\n",
        "import matplotlib.pyplot as plt"
      ],
      "metadata": {
        "id": "B4IRhNvaIzgM"
      },
      "execution_count": null,
      "outputs": []
    },
    {
      "cell_type": "code",
      "source": [
        "#Step 2\n",
        "#Read data (example 04-36)\n",
        "data = pd.read_excel('https://raw.githubusercontent.com/louisehviid/km2023/main/data/Chapter4/Xr04-36.xlsx')\n",
        "\n",
        "data.head\n"
      ],
      "metadata": {
        "id": "PP3Zdcixr7V_",
        "colab": {
          "base_uri": "https://localhost:8080/"
        },
        "outputId": "5960f0ed-67e5-405a-dfa6-709b12052246"
      },
      "execution_count": null,
      "outputs": [
        {
          "output_type": "execute_result",
          "data": {
            "text/plain": [
              "<bound method NDFrame.head of     Prozac\n",
              "0   102.05\n",
              "1    99.85\n",
              "2   112.30\n",
              "3    97.15\n",
              "4   111.23\n",
              "..     ...\n",
              "95  102.81\n",
              "96  109.56\n",
              "97  103.35\n",
              "98  113.02\n",
              "99  103.79\n",
              "\n",
              "[100 rows x 1 columns]>"
            ]
          },
          "metadata": {},
          "execution_count": 47
        }
      ]
    },
    {
      "cell_type": "code",
      "source": [
        "#Step 3\n",
        "\n",
        "# find the price range of values in Prozac\n",
        "range = data['Prozac'].max() - data['Prozac'].min()\n",
        "print(\"Range: \", range)\n",
        "\n",
        "# Calculating the variance and standard deviation of a column in the dataframe\n",
        "variance = data['Prozac'].var()\n",
        "print(\"Variance: \", variance)\n",
        "\n",
        "standard_deviation = data['Prozac'].std()\n",
        "print(\"Standard Deviation: \", standard_deviation)\n",
        "\n"
      ],
      "metadata": {
        "id": "if4EvWTDsK99",
        "colab": {
          "base_uri": "https://localhost:8080/"
        },
        "outputId": "e6022718-3515-426f-dc11-9cd83b73efbf"
      },
      "execution_count": null,
      "outputs": [
        {
          "output_type": "stream",
          "name": "stdout",
          "text": [
            "Range:  25.85000000000001\n",
            "Variance:  29.455223222222216\n",
            "Standard Deviation:  5.427266643737179\n"
          ]
        }
      ]
    },
    {
      "cell_type": "code",
      "source": [
        "#Step 4\n",
        "#To get an overview of the spead, it can be good to visualize the variance and SD around the mean.\n",
        "\n",
        "#Calculating mean\n",
        "mean = data['Prozac'].mean()\n",
        "\n",
        "#Plotting the histogram of the column data\n",
        "plt.hist(data['Prozac'], bins=20, edgecolor='black', alpha=0.5)\n",
        "\n",
        "# Adding vertical lines to represent one standard deviation above and below the mean\n",
        "plt.axvline(mean, color='blue', linestyle='--', label='mean')\n",
        "plt.axvline(mean - standard_deviation, color='red', linestyle='--', label='-1 SD')\n",
        "plt.axvline(mean + standard_deviation, color='red', linestyle='--', label='+1 SD')\n",
        "plt.axvline(mean + variance/2, color='green', label='+ Variance', linestyle='dashed')\n",
        "plt.axvline(mean - variance/2, color='green', label='- Variance', linestyle='dashed')\n",
        "\n",
        "# Adding labels to the x-axis and y-axis\n",
        "plt.xlabel('Prozac prices')\n",
        "plt.ylabel('Frequency')\n",
        "\n",
        "# Adding a title to the plot\n",
        "plt.title('Histogram with Measures of Spread (Variance and Standard Deviation)')\n",
        "\n",
        "# Displaying the plot\n",
        "plt.legend()\n",
        "plt.show()\n",
        "\n"
      ],
      "metadata": {
        "colab": {
          "base_uri": "https://localhost:8080/",
          "height": 295
        },
        "id": "wVuYYvRGuzB4",
        "outputId": "e83cb6b7-e7a9-45c9-9dab-bd2145cd7304"
      },
      "execution_count": null,
      "outputs": [
        {
          "output_type": "display_data",
          "data": {
            "text/plain": [
              "<Figure size 432x288 with 1 Axes>"
            ],
            "image/png": "[encoded data removed]"
          },
          "metadata": {
            "needs_background": "light"
          }
        }
      ]
    },
    {
      "cell_type": "code",
      "source": [
        "#Step 5\n",
        "#Hvad fortæller disse mål os om stikprøven af Prozac medicinens priser?"
      ],
      "metadata": {
        "id": "OKIzdTW6NlgP"
      },
      "execution_count": null,
      "outputs": []
    },
    {
      "cell_type": "code",
      "source": [
        "#Din tur, kan du løse opgave 4.37 (med dataset Xr04-37, sheet_name = 'Xr04-40')\n",
        "#Read data \n",
        "data = pd.read_excel('https://raw.githubusercontent.com/louisehviid/km2023/main/data/Chapter4/Xr04-37.xlsx', sheet_name = 'Xr04-40')\n",
        "\n",
        "data.head"
      ],
      "metadata": {
        "id": "DolhekhizSPb",
        "colab": {
          "base_uri": "https://localhost:8080/"
        },
        "outputId": "5149bf90-b0a7-4742-d29f-e9b98605e7c1"
      },
      "execution_count": null,
      "outputs": [
        {
          "output_type": "execute_result",
          "data": {
            "text/plain": [
              "<bound method NDFrame.head of      Speeds\n",
              "0        75\n",
              "1        70\n",
              "2        71\n",
              "3        94\n",
              "4        72\n",
              "..      ...\n",
              "195      74\n",
              "196      74\n",
              "197      79\n",
              "198      68\n",
              "199      70\n",
              "\n",
              "[200 rows x 1 columns]>"
            ]
          },
          "metadata": {},
          "execution_count": 3
        }
      ]
    },
    {
      "cell_type": "code",
      "source": [
        "# Calculating the variance and standard deviation of a column in the dataframe\n",
        "variance = data['Speeds'].var()\n",
        "print(\"Variance: \", variance)\n",
        "\n",
        "standard_deviation = data['Speeds'].std()\n",
        "print(\"Standard Deviation: \", standard_deviation)"
      ],
      "metadata": {
        "id": "vaBRAwhA_J4o",
        "colab": {
          "base_uri": "https://localhost:8080/"
        },
        "outputId": "bb405ade-e958-4b38-bbed-2f80c2c9d1af"
      },
      "execution_count": null,
      "outputs": [
        {
          "output_type": "stream",
          "name": "stdout",
          "text": [
            "Variance:  40.72522613065326\n",
            "Standard Deviation:  6.3816319331855285\n"
          ]
        }
      ]
    },
    {
      "cell_type": "markdown",
      "source": [
        "At least 95% of the speeds lie within 12.76 mph of the mean speed, 99.9% lie with 19.14 mph of the mean speed."
      ],
      "metadata": {
        "id": "_Oq0UjfcGdrD"
      }
    },
    {
      "cell_type": "markdown",
      "source": [
        "# kvartiler"
      ],
      "metadata": {
        "id": "xzm13ah7_Sxm"
      }
    },
    {
      "cell_type": "markdown",
      "source": [
        "Opgave 4.67 som eksempel på hvordan vi beregner kvatiler.\n"
      ],
      "metadata": {
        "id": "YiMyw0f4AyP0"
      }
    },
    {
      "cell_type": "code",
      "source": [
        "#Step 1\n",
        "import pandas as pd\n",
        "import matplotlib.pyplot as plt\n"
      ],
      "metadata": {
        "id": "Weq5Op7uBXIH"
      },
      "execution_count": null,
      "outputs": []
    },
    {
      "cell_type": "code",
      "source": [
        "#Step 2\n",
        "# Reading the Excel file into a Pandas dataframe\n",
        "data= pd.read_excel('https://raw.githubusercontent.com/louisehviid/km2023/main/data/Chapter4/Xr04-67.xlsx')\n",
        "\n",
        "data.head"
      ],
      "metadata": {
        "colab": {
          "base_uri": "https://localhost:8080/"
        },
        "id": "jIrfgFYoB9v8",
        "outputId": "a43e0576-03ed-4dd5-f8e8-7a3a2bc0ef9a"
      },
      "execution_count": null,
      "outputs": [
        {
          "output_type": "execute_result",
          "data": {
            "text/plain": [
              "<bound method NDFrame.head of      Spend\n",
              "0       50\n",
              "1       25\n",
              "2       50\n",
              "3      110\n",
              "4      370\n",
              "..     ...\n",
              "157    100\n",
              "158     50\n",
              "159    110\n",
              "160     25\n",
              "161    340\n",
              "\n",
              "[162 rows x 1 columns]>"
            ]
          },
          "metadata": {},
          "execution_count": 52
        }
      ]
    },
    {
      "cell_type": "code",
      "source": [
        "#Step 3\n",
        "\n",
        "# Calculating the percentiles and quartiles\n",
        "percentiles = data['Spend'].quantile([0.25, 0.5, 0.75])\n",
        "\n",
        "first_quartile = percentiles[0.25]\n",
        "print(\"First Quartile: \", first_quartile)\n",
        "\n",
        "median = percentiles[0.5]\n",
        "print(\"Second Quartile: \", median)\n",
        "\n",
        "third_quartile = percentiles[0.75]\n",
        "print(\"Third Quartile: \", third_quartile)\n",
        "\n"
      ],
      "metadata": {
        "id": "1Lz4xcOQDTdH",
        "colab": {
          "base_uri": "https://localhost:8080/"
        },
        "outputId": "8980152c-c61c-4c88-ed6c-a07119866999"
      },
      "execution_count": null,
      "outputs": [
        {
          "output_type": "stream",
          "name": "stdout",
          "text": [
            "First Quartile:  50.0\n",
            "Second Quartile:  125.0\n",
            "Third Quartile:  260.0\n"
          ]
        }
      ]
    },
    {
      "cell_type": "code",
      "source": [
        "# Step 4\n",
        "#Visualizing these \n",
        "\n",
        "# plot the data and measures on a histogram\n",
        "plt.hist(data['Spend'], bins=20, edgecolor='black', alpha=0.5)\n",
        "\n",
        "plt.axvline(first_quartile, color='red', label='1st Quartile')\n",
        "plt.axvline(median, color='green', label='Median')\n",
        "plt.axvline(third_quartile, color='red', label='3rd Quartile')\n",
        "plt.legend()\n",
        "plt.show()"
      ],
      "metadata": {
        "colab": {
          "base_uri": "https://localhost:8080/",
          "height": 265
        },
        "id": "RVwOXzspGlCx",
        "outputId": "7d7e8524-713f-43be-ba56-b90c2c90ba0b"
      },
      "execution_count": null,
      "outputs": [
        {
          "output_type": "display_data",
          "data": {
            "text/plain": [
              "<Figure size 432x288 with 1 Axes>"
            ],
            "image/png": "[encoded data removed]"
          },
          "metadata": {
            "needs_background": "light"
          }
        }
      ]
    },
    {
      "cell_type": "code",
      "source": [
        "#Hvad fortæller dataen dig? "
      ],
      "metadata": {
        "id": "d1q3bNi5SFZJ"
      },
      "execution_count": null,
      "outputs": []
    },
    {
      "cell_type": "code",
      "source": [
        "#Din tur, kan du lave opgave 4.71 (med datasættet Xr04-71, sheet_name = 'Xr04-74')?\n",
        "\n",
        "# Reading the Excel file into a Pandas dataframe\n",
        "data= pd.read_excel('https://raw.githubusercontent.com/louisehviid/km2023/main/data/Chapter4/Xr04-71.xlsx', sheet_name = 'Xr04-74' )\n",
        "\n",
        "data.head\n"
      ],
      "metadata": {
        "id": "tIDxbLRGSmU-",
        "colab": {
          "base_uri": "https://localhost:8080/"
        },
        "outputId": "bea09d32-b87e-4de4-c744-93319c311e78"
      },
      "execution_count": null,
      "outputs": [
        {
          "output_type": "execute_result",
          "data": {
            "text/plain": [
              "<bound method NDFrame.head of      Times\n",
              "0       25\n",
              "1       28\n",
              "2       29\n",
              "3       23\n",
              "4       32\n",
              "..     ...\n",
              "195     33\n",
              "196     22\n",
              "197     34\n",
              "198     21\n",
              "199     32\n",
              "\n",
              "[200 rows x 1 columns]>"
            ]
          },
          "metadata": {},
          "execution_count": 7
        }
      ]
    },
    {
      "cell_type": "code",
      "source": [
        "# Calculating the percentiles and quartiles\n",
        "percentiles = data['Times'].quantile([0.25, 0.5, 0.75])\n",
        "\n",
        "first_quartile = percentiles[0.25]\n",
        "print(\"First Quartile: \", first_quartile)\n",
        "\n",
        "median = percentiles[0.5]\n",
        "print(\"Second Quartile: \", median)\n",
        "\n",
        "third_quartile = percentiles[0.75]\n",
        "print(\"Third Quartile: \", third_quartile)"
      ],
      "metadata": {
        "colab": {
          "base_uri": "https://localhost:8080/"
        },
        "id": "9li28onnHlZQ",
        "outputId": "c23ed111-6d1b-4c39-a5f6-ade76cf87db7"
      },
      "execution_count": null,
      "outputs": [
        {
          "output_type": "stream",
          "name": "stdout",
          "text": [
            "First Quartile:  26.0\n",
            "Second Quartile:  28.5\n",
            "Third Quartile:  32.0\n"
          ]
        }
      ]
    },
    {
      "cell_type": "code",
      "source": [
        "#Visualizing these times\n",
        "import matplotlib.pyplot as plt\n",
        "\n",
        "# plot the data and measures on a histogram\n",
        "plt.hist(data['Times'], bins=20, edgecolor='black', alpha=0.5)\n",
        "\n",
        "plt.axvline(first_quartile, color='red', label='1st Quartile')\n",
        "plt.axvline(median, color='green', label='Median')\n",
        "plt.axvline(third_quartile, color='red', label='3rd Quartile')\n",
        "plt.legend()\n",
        "plt.show()"
      ],
      "metadata": {
        "colab": {
          "base_uri": "https://localhost:8080/",
          "height": 265
        },
        "id": "A00Gqn6wIKrN",
        "outputId": "4032a6bc-4c8b-4ddf-e6eb-f92fd637feb5"
      },
      "execution_count": null,
      "outputs": [
        {
          "output_type": "display_data",
          "data": {
            "text/plain": [
              "<Figure size 432x288 with 1 Axes>"
            ],
            "image/png": "[encoded data removed]"
          },
          "metadata": {
            "needs_background": "light"
          }
        }
      ]
    },
    {
      "cell_type": "markdown",
      "source": [
        "We see that the times are positively shewed. It tells us about the direction of outliers, and whether our data is highly condensed in one range.  "
      ],
      "metadata": {
        "id": "CBqQsPUKImhg"
      }
    },
    {
      "cell_type": "markdown",
      "source": [
        "# Kovarians, Korrelationskoefficienten ($r$), Determinant koefficienten ($r^2$) og Tendenslinje"
      ],
      "metadata": {
        "id": "-Uelr17cRCGU"
      }
    },
    {
      "cell_type": "markdown",
      "source": [
        "Opgave 4.82 som eksempel på hvordan man kan beregne kovariance, korrelationskoefficienten og determinant koefficienten, samt tegne og beregne tendenslinjen (the least squares line)."
      ],
      "metadata": {
        "id": "FmTodsvXSkAz"
      }
    },
    {
      "cell_type": "code",
      "source": [
        "#Step 1\n",
        "#'libraries' som vi skal bruge\n",
        "import pandas as pd\n",
        "import numpy as np"
      ],
      "metadata": {
        "id": "OONr3dGURcrZ"
      },
      "execution_count": null,
      "outputs": []
    },
    {
      "cell_type": "code",
      "source": [
        "##Step 2\n",
        "# Reading the Excel file into a Pandas dataframe\n",
        "data= pd.read_excel('https://raw.githubusercontent.com/louisehviid/km2023/main/data/Chapter4/Xr04-82.xlsx')\n",
        "\n",
        "data.head\n",
        "\n"
      ],
      "metadata": {
        "colab": {
          "base_uri": "https://localhost:8080/"
        },
        "id": "WwFc15w2fvtw",
        "outputId": "0d5c2217-f6a5-415c-9022-37c277fc51bc"
      },
      "execution_count": null,
      "outputs": [
        {
          "output_type": "execute_result",
          "data": {
            "text/plain": [
              "<bound method NDFrame.head of    Total Sales  Selling Expenses\n",
              "0           20                14\n",
              "1           40                16\n",
              "2           60                18\n",
              "3           50                17\n",
              "4           50                18\n",
              "5           55                18\n",
              "6           60                18\n",
              "7           70                20>"
            ]
          },
          "metadata": {},
          "execution_count": 2
        }
      ]
    },
    {
      "cell_type": "code",
      "source": [
        "#Step 3\n",
        "# Beregn covariance\n",
        "covariance = data.cov().loc[\"Total Sales\", \"Selling Expenses\"]\n",
        "print(\"Covariance:\", covariance)\n"
      ],
      "metadata": {
        "colab": {
          "base_uri": "https://localhost:8080/"
        },
        "id": "odr9SMZ8RBTR",
        "outputId": "0683362b-8039-4e62-bb31-48437132fa49"
      },
      "execution_count": null,
      "outputs": [
        {
          "output_type": "stream",
          "name": "stdout",
          "text": [
            "Covariance: 26.160714285714285\n"
          ]
        }
      ]
    },
    {
      "cell_type": "code",
      "source": [
        "#Step 4\n",
        "# Beregn coefficient of correlation\n",
        "correlation = data.corr().loc[\"Total Sales\", \"Selling Expenses\"]\n",
        "print(\"Coefficient of correlation:\", correlation)"
      ],
      "metadata": {
        "colab": {
          "base_uri": "https://localhost:8080/"
        },
        "id": "O5F4hCE1RLbQ",
        "outputId": "b853ed8e-ef7e-4376-e681-cb34a70f725b"
      },
      "execution_count": null,
      "outputs": [
        {
          "output_type": "stream",
          "name": "stdout",
          "text": [
            "Coefficient of correlation: 0.9722208197334331\n"
          ]
        }
      ]
    },
    {
      "cell_type": "code",
      "source": [
        "#Step 5\n",
        "# Beregn coefficient of determination\n",
        "determination = correlation**2\n",
        "print(\"Coefficient of determination:\", determination)"
      ],
      "metadata": {
        "colab": {
          "base_uri": "https://localhost:8080/"
        },
        "id": "00711p00RNsC",
        "outputId": "f9adbf6f-81aa-492b-f058-092ab6e6e4ca"
      },
      "execution_count": null,
      "outputs": [
        {
          "output_type": "stream",
          "name": "stdout",
          "text": [
            "Coefficient of determination: 0.9452133223231486\n"
          ]
        }
      ]
    },
    {
      "cell_type": "code",
      "source": [
        "#Step 6\n",
        "#Visualisere dataen\n",
        "import matplotlib.pyplot as plt\n",
        "\n",
        "## Select the columns to use as x and y data\n",
        "x = data[\"Total Sales\"]\n",
        "y = data[\"Selling Expenses\"]\n",
        "\n",
        "# Plot the data\n",
        "plt.scatter(x,y)\n",
        "plt.xlabel(\"Total Sales\")\n",
        "plt.ylabel(\"Selling Expenses\")\n",
        "plt.title(\" Total Sales vs. Selling Expenses \")\n"
      ],
      "metadata": {
        "colab": {
          "base_uri": "https://localhost:8080/",
          "height": 312
        },
        "id": "_JlbldMoSRab",
        "outputId": "ef1bc605-dc7b-42c2-cbf1-c832bee5c50d"
      },
      "execution_count": null,
      "outputs": [
        {
          "output_type": "execute_result",
          "data": {
            "text/plain": [
              "Text(0.5, 1.0, ' Total Sales vs. Selling Expenses ')"
            ]
          },
          "metadata": {},
          "execution_count": 10
        },
        {
          "output_type": "display_data",
          "data": {
            "text/plain": [
              "<Figure size 432x288 with 1 Axes>"
            ],
            "image/png": "[encoded data removed]"
          },
          "metadata": {
            "needs_background": "light"
          }
        }
      ]
    },
    {
      "cell_type": "code",
      "source": [
        "#Step 7\n",
        "#Beregn og tegn tendenslinjen (the least squares line) \n",
        "\n",
        "# Calculate the least squares line\n",
        "selling_mean = data[\"Selling Expenses\"].mean()\n",
        "total_mean = data[\"Total Sales\"].mean()\n",
        "\n",
        "num = ((data[\"Total Sales\"] - total_mean) * (data[\"Selling Expenses\"] - selling_mean)).sum()\n",
        "den = ((data[\"Total Sales\"] - total_mean)**2).sum()\n",
        "\n",
        "slope = num / den\n",
        "print(\"Slope:\", slope)\n",
        "\n",
        "intercept = selling_mean - slope * total_mean\n",
        "print(\"Intercept:\", intercept)\n",
        "\n",
        "# Use the line to make predictions\n",
        "predictions = intercept + slope * data[\"Total Sales\"]\n",
        "\n",
        "# Plot the data\n",
        "plt.scatter(x,y)\n",
        "\n",
        "# Plot the line\n",
        "plt.plot(data[\"Total Sales\"], predictions, color='red')\n",
        "plt.xlabel(\"Total Sales\")\n",
        "plt.ylabel(\"Selling Expenses\")\n",
        "plt.title(\"Selling Expenses predicted by Total Sales\")\n",
        "\n",
        "# Show the plot\n",
        "plt.show()"
      ],
      "metadata": {
        "id": "GIv-KdHYNwmW",
        "outputId": "7d01282e-d721-43b7-b5bf-07ec52d636f8",
        "colab": {
          "base_uri": "https://localhost:8080/",
          "height": 330
        }
      },
      "execution_count": null,
      "outputs": [
        {
          "output_type": "stream",
          "name": "stdout",
          "text": [
            "Slope: 0.11290944123314066\n",
            "Intercept: 11.658959537572255\n"
          ]
        },
        {
          "output_type": "display_data",
          "data": {
            "text/plain": [
              "<Figure size 432x288 with 1 Axes>"
            ],
            "image/png": "[encoded data removed]"
          },
          "metadata": {
            "needs_background": "light"
          }
        }
      ]
    },
    {
      "cell_type": "code",
      "source": [
        "#Step 8\n",
        "#Print tendenslinjen til at lave beregninger ...\n",
        "\n",
        "print(\"The equation for the line is y = {:.2f} + {:.2f}x\".format(intercept, slope))\n"
      ],
      "metadata": {
        "colab": {
          "base_uri": "https://localhost:8080/"
        },
        "id": "851MQvOVsaV4",
        "outputId": "b7134157-5a73-442e-9469-b77deaa3e815"
      },
      "execution_count": null,
      "outputs": [
        {
          "output_type": "stream",
          "name": "stdout",
          "text": [
            "The equation for the line is y = 11.66 + 0.11x\n"
          ]
        }
      ]
    },
    {
      "cell_type": "code",
      "source": [
        "#Step 9\n",
        "#Kan du forklare hvordan vi bruger tendenslinjen / the least square line', hvordan den kan hjælpe os?"
      ],
      "metadata": {
        "id": "CvI_Q--utkhy"
      },
      "execution_count": null,
      "outputs": []
    },
    {
      "cell_type": "code",
      "source": [
        "#Din tur til at løse opgave 4.83 (ved brug af datasættet Xr04-83, sheet_name = 'Xr04-86')\n",
        "\n",
        "\n",
        "data= pd.read_excel('https://raw.githubusercontent.com/louisehviid/km2023/main/data/Chapter4/Xr04-83.xlsx', sheet_name = 'Xr04-86' )\n",
        "\n",
        "data.head\n"
      ],
      "metadata": {
        "id": "TCai-CMlvCev",
        "colab": {
          "base_uri": "https://localhost:8080/"
        },
        "outputId": "e7c3605d-5979-461b-f447-177978bf90fa"
      },
      "execution_count": null,
      "outputs": [
        {
          "output_type": "execute_result",
          "data": {
            "text/plain": [
              "<bound method NDFrame.head of    Study time  Marks\n",
              "0          40     77\n",
              "1          42     63\n",
              "2          37     79\n",
              "3          47     86\n",
              "4          25     51\n",
              "5          44     78\n",
              "6          41     83\n",
              "7          48     90\n",
              "8          35     65\n",
              "9          28     47>"
            ]
          },
          "metadata": {},
          "execution_count": 4
        }
      ]
    },
    {
      "cell_type": "code",
      "source": [
        "#Rename the column\n",
        "data.rename(columns={'Study time': 'Study_time'}, inplace=True)"
      ],
      "metadata": {
        "id": "AOyeAg3YvYJX"
      },
      "execution_count": null,
      "outputs": []
    },
    {
      "cell_type": "code",
      "source": [
        "# Beregn covariance\n",
        "covariance = data.cov().loc[\"Study_time\", \"Marks\"]\n",
        "print(\"Covariance:\", covariance)\n",
        "\n",
        "# Beregn coefficient of correlation\n",
        "correlation = data.corr().loc[\"Study_time\", \"Marks\"]\n",
        "print(\"Coefficient of correlation:\", correlation)\n",
        "\n",
        "# Beregn coefficient of determination\n",
        "determination = correlation**2\n",
        "print(\"Coefficient of determination:\", determination)\n"
      ],
      "metadata": {
        "id": "VVkwvSg6LnbV",
        "outputId": "f7e8e1eb-e149-404c-faa8-c06c159b231a",
        "colab": {
          "base_uri": "https://localhost:8080/"
        }
      },
      "execution_count": null,
      "outputs": [
        {
          "output_type": "stream",
          "name": "stdout",
          "text": [
            "Covariance: 98.52222222222223\n",
            "Coefficient of correlation: 0.8811735631258526\n",
            "Coefficient of determination: 0.7764668483519109\n"
          ]
        }
      ]
    },
    {
      "cell_type": "code",
      "source": [
        "#Beregn og tegn tendenslinjen  \n",
        "import matplotlib.pyplot as plt\n",
        "\n",
        "## Select the columns to use as x and y data\n",
        "x = data[\"Study_time\"]\n",
        "y = data[\"Marks\"]\n",
        "\n",
        "# Calculate the least squares line\n",
        "marks_mean = data[\"Marks\"].mean()\n",
        "study_time_mean = data[\"Study_time\"].mean()\n",
        "\n",
        "num = ((data[\"Study_time\"] - study_time_mean) * (data[\"Marks\"] - marks_mean)).sum()\n",
        "den = ((data[\"Study_time\"] - study_time_mean)**2).sum()\n",
        "\n",
        "slope = num / den\n",
        "print(\"Slope:\", slope)\n",
        "\n",
        "intercept = marks_mean - slope * study_time_mean\n",
        "print(\"Intercept:\", intercept)\n",
        "\n",
        "# Use the line to make predictions\n",
        "predictions = intercept + slope * data[\"Study_time\"]\n",
        "\n",
        "# Plot the data\n",
        "plt.scatter(x,y)\n",
        "\n",
        "# Plot the line\n",
        "plt.plot(data[\"Study_time\"], predictions, color='red')\n",
        "plt.xlabel(\"Study_time\")\n",
        "plt.ylabel(\"Marks\")\n",
        "plt.title(\"Marks predicted by Study Time\")\n",
        "\n",
        "# Show the plot\n",
        "plt.show()"
      ],
      "metadata": {
        "id": "fHmPDGU8MekI",
        "outputId": "cb4342ca-71eb-4a11-99c9-b962153aef1a",
        "colab": {
          "base_uri": "https://localhost:8080/",
          "height": 331
        }
      },
      "execution_count": null,
      "outputs": [
        {
          "output_type": "stream",
          "name": "stdout",
          "text": [
            "Slope: 1.7048644491443954\n",
            "Intercept: 5.921745818111901\n"
          ]
        },
        {
          "output_type": "display_data",
          "data": {
            "text/plain": [
              "<Figure size 432x288 with 1 Axes>"
            ],
            "image/png": "[encoded data removed]"
          },
          "metadata": {
            "needs_background": "light"
          }
        }
      ]
    },
    {
      "cell_type": "code",
      "source": [
        "#Print tendenslinjen til at lave beregninger ...\n",
        "\n",
        "print(\"The equation for the line is y = {:.2f} + {:.2f}x\".format(intercept, slope))\n"
      ],
      "metadata": {
        "id": "vAyNmgdfN9bf",
        "outputId": "a6171bb0-fe20-493c-86be-47821d2dc22e",
        "colab": {
          "base_uri": "https://localhost:8080/"
        }
      },
      "execution_count": null,
      "outputs": [
        {
          "output_type": "stream",
          "name": "stdout",
          "text": [
            "The equation for the line is y = 5.92 + 1.70x\n"
          ]
        }
      ]
    },
    {
      "cell_type": "markdown",
      "source": [
        "There is a stong positive linear relationship marks and study time. For each additional hour of study time marks increased on average by 1.70."
      ],
      "metadata": {
        "id": "9aYMqxfYObnU"
      }
    }
  ]
}