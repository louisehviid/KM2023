{
  "nbformat": 4,
  "nbformat_minor": 0,
  "metadata": {
    "colab": {
      "provenance": [],
      "authorship_tag": "ABX9TyP2Yv5BwVXU3pSQDR3r/OJ+",
      "include_colab_link": true
    },
    "kernelspec": {
      "name": "python3",
      "display_name": "Python 3"
    },
    "language_info": {
      "name": "python"
    }
  },
  "cells": [
    {
      "cell_type": "markdown",
      "metadata": {
        "id": "view-in-github",
        "colab_type": "text"
      },
      "source": [
        "<a href=\"https://colab.research.google.com/github/louisehviid/KM2023/blob/main/Workshop4_Sampling.ipynb\" target=\"_parent\"><img src=\"https://colab.research.google.com/assets/colab-badge.svg\" alt=\"Open In Colab\"/></a>"
      ]
    },
    {
      "cell_type": "markdown",
      "source": [
        "# Introduktion til workshop 4"
      ],
      "metadata": {
        "id": "Bb7-C8aKNHef"
      }
    },
    {
      "cell_type": "markdown",
      "source": [
        "I denne colaboratory fil, viser vi et eksemple på hvordan I kan generere en stikprøve ved brug af python. I kan bruge disse eksempler til at hjælpe jer på vej til at løse jeres egne opgaver.\n",
        "\n",
        "\n",
        "---\n",
        "\n",
        "Vi vil bruge pandas Series til at skabe en variable, hvorfra vi kan tage en stikprøve (kapitel 5)."
      ],
      "metadata": {
        "id": "quFf2KEMNTWU"
      }
    },
    {
      "cell_type": "markdown",
      "source": [
        "# Stikprøver"
      ],
      "metadata": {
        "id": "Mi49LruOQzQw"
      }
    },
    {
      "cell_type": "markdown",
      "source": [
        "Opgave 5.12 som eksempel på hvordan vi kan tage en stikprøve."
      ],
      "metadata": {
        "id": "sanbrhv3Q4aa"
      }
    },
    {
      "cell_type": "code",
      "source": [
        "#Step 1\n",
        "#Import pandas og numpy\n",
        "\n",
        "import pandas as pd\n",
        "import numpy as np"
      ],
      "metadata": {
        "id": "7f6k4iNxBi4r"
      },
      "execution_count": 25,
      "outputs": []
    },
    {
      "cell_type": "code",
      "execution_count": 26,
      "metadata": {
        "id": "QcS4Ey_JM-oC"
      },
      "outputs": [],
      "source": [
        "#Step 2\n",
        "#Create a variable which contain the numbered 1-500 households, using a numpy array\n",
        "data = range(1, 501)\n",
        "\n",
        "#Bonus spørgsmål, hvorfor inkludere jeg 501 i min variable?"
      ]
    },
    {
      "cell_type": "code",
      "source": [
        "#Step 3\n",
        "# Transform the household variable to a pandas Series\n",
        "data = pd.Series(data)\n",
        "\n",
        "# Save the household variable to a population variable\n",
        "population = data\n",
        "\n",
        "print(population)"
      ],
      "metadata": {
        "colab": {
          "base_uri": "https://localhost:8080/"
        },
        "id": "z1UGUrIMhZ1G",
        "outputId": "468dbcef-bf04-45f8-8a0f-99b1ab2b707a"
      },
      "execution_count": 27,
      "outputs": [
        {
          "output_type": "stream",
          "name": "stdout",
          "text": [
            "0        1\n",
            "1        2\n",
            "2        3\n",
            "3        4\n",
            "4        5\n",
            "      ... \n",
            "495    496\n",
            "496    497\n",
            "497    498\n",
            "498    499\n",
            "499    500\n",
            "Length: 500, dtype: int64\n"
          ]
        }
      ]
    },
    {
      "cell_type": "code",
      "source": [
        "#Step 4\n",
        "#Når vi generere et random sample, så får vi et nyt sample hver gang, men hvis vi sætter et 'seed' får vi det samme sample.\n",
        "\n",
        "# Set a random seed\n",
        "np.random.seed(0)\n",
        "\n",
        "# Generate a random sample of 25 households using pandas\n",
        "sample = data.sample(n=25)\n",
        "\n",
        "sample = sample\n",
        "\n",
        "print(sample)\n"
      ],
      "metadata": {
        "colab": {
          "base_uri": "https://localhost:8080/"
        },
        "id": "S6m9eJQDB3pj",
        "outputId": "5ea03238-a8b2-485c-efa6-7af6a581d3ac"
      },
      "execution_count": 38,
      "outputs": [
        {
          "output_type": "stream",
          "name": "stdout",
          "text": [
            "90      91\n",
            "254    255\n",
            "283    284\n",
            "445    446\n",
            "461    462\n",
            "15      16\n",
            "316    317\n",
            "489    490\n",
            "159    160\n",
            "153    154\n",
            "241    242\n",
            "250    251\n",
            "390    391\n",
            "289    290\n",
            "171    172\n",
            "329    330\n",
            "468    469\n",
            "355    356\n",
            "154    155\n",
            "37      38\n",
            "205    206\n",
            "366    367\n",
            "240    241\n",
            "108    109\n",
            "45      46\n",
            "dtype: int64\n"
          ]
        }
      ]
    },
    {
      "cell_type": "code",
      "source": [
        "#Step 5\n",
        "#Før vi plotter vores stikprøve laver vi den lige om til en binary variable\n",
        "# Create a binary variable for the population\n",
        "binary_data = [1 if i in sample else 0 for i in population]\n",
        "\n",
        "# Count the number of 1s in the binary variable\n",
        "num_ones = binary_data.count(1)\n",
        "\n",
        "print(\"Number of ones:\", num_ones)"
      ],
      "metadata": {
        "colab": {
          "base_uri": "https://localhost:8080/"
        },
        "id": "bOv8AicBtp_T",
        "outputId": "59c737b1-445c-4799-e084-56e774edbd13"
      },
      "execution_count": 42,
      "outputs": [
        {
          "output_type": "stream",
          "name": "stdout",
          "text": [
            "Number of ones: 25\n"
          ]
        }
      ]
    },
    {
      "cell_type": "code",
      "source": [
        "#Step 6\n",
        "\n",
        "#vi kan lige visualisere vores stikprøve relative til vore population, men så skal vi bruge det matplotlib library vi brugte i workshop 2\n",
        "import matplotlib.pyplot as plt\n",
        "\n",
        "\n",
        "# Plot the binary variable as a bar plot\n",
        "plt.bar(population, binary_data)\n",
        "\n",
        "# Add a title and labels to the plot\n",
        "plt.title('Sample Relative to the Population')\n",
        "plt.xlabel('Household')\n",
        "plt.ylabel('In Sample (1)')\n",
        "\n",
        "# Show the plot\n",
        "plt.show()\n",
        "\n",
        "\n"
      ],
      "metadata": {
        "colab": {
          "base_uri": "https://localhost:8080/",
          "height": 295
        },
        "id": "zX1GcSHEEN2y",
        "outputId": "325fdb7c-e4ec-4c16-c1bc-fd7ebcffaa55"
      },
      "execution_count": 44,
      "outputs": [
        {
          "output_type": "display_data",
          "data": {
            "text/plain": [
              "<Figure size 432x288 with 1 Axes>"
            ],
            "image/png": "[encoded data removed]"
          },
          "metadata": {
            "needs_background": "light"
          }
        }
      ]
    },
    {
      "cell_type": "code",
      "source": [
        "# Nu er det din tur, kan du løse opgave 5.13 og generere en stikprøve? "
      ],
      "metadata": {
        "id": "zA063Z5qIUyU"
      },
      "execution_count": null,
      "outputs": []
    }
  ]
}