{
  "nbformat": 4,
  "nbformat_minor": 0,
  "metadata": {
    "colab": {
      "provenance": [],
      "authorship_tag": "ABX9TyOldAoZO0iIyyW1UQRLDyZJ",
      "include_colab_link": true
    },
    "kernelspec": {
      "name": "python3",
      "display_name": "Python 3"
    },
    "language_info": {
      "name": "python"
    }
  },
  "cells": [
    {
      "cell_type": "markdown",
      "metadata": {
        "id": "view-in-github",
        "colab_type": "text"
      },
      "source": [
        "<a href=\"https://colab.research.google.com/github/louisehviid/KM2023/blob/main/Workshop4_Sampling.ipynb\" target=\"_parent\"><img src=\"https://colab.research.google.com/assets/colab-badge.svg\" alt=\"Open In Colab\"/></a>"
      ]
    },
    {
      "cell_type": "markdown",
      "source": [
        "# Introduktion til workshop 4"
      ],
      "metadata": {
        "id": "Bb7-C8aKNHef"
      }
    },
    {
      "cell_type": "markdown",
      "source": [
        "I denne colaboratory fil, viser vi et eksempel på hvordan I kan generere en stikprøve ved brug af python. I kan bruge kode eksemplet til at hjælpe jer på vej til at løse jeres egne opgaver.\n",
        "\n",
        "\n",
        "---\n",
        "\n",
        "Vi vil bruge pandas Series til at skabe en variable, hvorfra vi kan tage en stikprøve (kapitel 5)."
      ],
      "metadata": {
        "id": "quFf2KEMNTWU"
      }
    },
    {
      "cell_type": "markdown",
      "source": [
        "# Stikprøver"
      ],
      "metadata": {
        "id": "Mi49LruOQzQw"
      }
    },
    {
      "cell_type": "markdown",
      "source": [
        "Opgave 5.12 som eksempel på hvordan vi kan tage en stikprøve."
      ],
      "metadata": {
        "id": "sanbrhv3Q4aa"
      }
    },
    {
      "cell_type": "code",
      "source": [
        "#Step 1\n",
        "#Import pandas og numpy\n",
        "\n",
        "import pandas as pd\n",
        "import numpy as np\n",
        "import matplotlib.pyplot as plt"
      ],
      "metadata": {
        "id": "7f6k4iNxBi4r"
      },
      "execution_count": null,
      "outputs": []
    },
    {
      "cell_type": "code",
      "execution_count": null,
      "metadata": {
        "id": "QcS4Ey_JM-oC"
      },
      "outputs": [],
      "source": [
        "#Step 2\n",
        "#Til opgave 5.12 skal vi bare generere værdier fra 1-500\n",
        "#Create a variable which contain the numbered 1-500 households, using a numpy array\n",
        "\n",
        "data = range(1, 501)\n",
        "\n",
        "#Bonus spørgsmål, hvorfor inkludere jeg 501 i min variable?\n"
      ]
    },
    {
      "cell_type": "code",
      "source": [
        "#Step 3\n",
        "\n",
        "# Transform the household variable to a pandas Series and call it population\n",
        "population = pd.Series(data)\n",
        "\n",
        "#Print med index\n",
        "print(population.head(10))\n",
        "\n",
        "# Print uden index\n",
        "print(population.head(10).to_string(index=False))"
      ],
      "metadata": {
        "colab": {
          "base_uri": "https://localhost:8080/"
        },
        "id": "z1UGUrIMhZ1G",
        "outputId": "b3e8cfc5-3c17-440f-be41-6378cfc1667c"
      },
      "execution_count": null,
      "outputs": [
        {
          "output_type": "stream",
          "name": "stdout",
          "text": [
            "0     1\n",
            "1     2\n",
            "2     3\n",
            "3     4\n",
            "4     5\n",
            "5     6\n",
            "6     7\n",
            "7     8\n",
            "8     9\n",
            "9    10\n",
            "dtype: int64\n",
            " 1\n",
            " 2\n",
            " 3\n",
            " 4\n",
            " 5\n",
            " 6\n",
            " 7\n",
            " 8\n",
            " 9\n",
            "10\n"
          ]
        }
      ]
    },
    {
      "cell_type": "code",
      "source": [
        "#Step 4\n",
        "#Når vi generere en stikprøve, så får vi en ny stikprøve hver gang, men hvis vi sætter et 'seed' får vi den samme stikprøve. \n",
        "\n",
        "# Set a random seed\n",
        "np.random.seed(0)\n",
        "\n",
        "# Generate a random sample of 25 households using pandas\n",
        "sample = population.sample(n=25)\n",
        "\n",
        "# Print the Series uden index (og kun de første 10 værdier)\n",
        "print(sample.head(10).to_string(index=False))\n"
      ],
      "metadata": {
        "colab": {
          "base_uri": "https://localhost:8080/"
        },
        "id": "S6m9eJQDB3pj",
        "outputId": "e36381b7-fdc6-42b7-b013-d62fafb3d668"
      },
      "execution_count": null,
      "outputs": [
        {
          "output_type": "stream",
          "name": "stdout",
          "text": [
            " 91\n",
            "255\n",
            "284\n",
            "446\n",
            "462\n",
            " 16\n",
            "317\n",
            "490\n",
            "160\n",
            "154\n"
          ]
        }
      ]
    },
    {
      "cell_type": "code",
      "source": [
        "# Step 5\n",
        "#I 5.12 genererer vi en uniform distribution, men mere often arbejder vi med en normal distribution  \n",
        "#Så lad os lige prøve at genere en population, der repræsenterer en normalfordeling\n",
        "#her kan vi bruge numpy's np.random.normal() funktion\n",
        "\n",
        "#Generate population dataset of 500\n",
        "#Obs: loc = mean, scale = standard deviation\n",
        "\n",
        "population = np.random.normal(loc=225, scale=10, size=500)\n",
        "\n",
        "# Transform the population variable to a pandas Series\n",
        "population = pd.Series(population)\n",
        "\n",
        "#Herfra kan vi også generere en stikprøve\n",
        "\n",
        "# Set a random seed\n",
        "np.random.seed(0)\n",
        "\n",
        "# Generate a random sample of 25 households using pandas\n",
        "sample = population.sample(n=25)\n",
        "\n",
        "\n"
      ],
      "metadata": {
        "id": "Ufz29Po-pfka"
      },
      "execution_count": null,
      "outputs": []
    },
    {
      "cell_type": "code",
      "source": [
        "# Step 6\n",
        "#Virker vores stikprøve som repræsentativ for vores population?\n",
        "#Det kan være godt at visualisere stikprøven, når vi skal svare på det spørgsmål\n",
        "\n",
        "#Create histograms for population and sample\n",
        "fig, ax = plt.subplots(1, 2, figsize=(12, 6))\n",
        "\n",
        "ax[0].hist(population, bins=50)\n",
        "ax[0].set_title(\"Population Histogram\")\n",
        "ax[0].set_xlabel(\"household\")\n",
        "ax[0].set_ylabel(\"Frequency\")\n",
        "\n",
        "ax[1].hist(sample, bins=10)\n",
        "ax[1].set_title(\"Stikprøve Histogram\")\n",
        "ax[1].set_xlabel(\"household\")\n",
        "ax[1].set_ylabel(\"Frequency\")\n",
        "\n",
        "plt.show()"
      ],
      "metadata": {
        "colab": {
          "base_uri": "https://localhost:8080/",
          "height": 404
        },
        "id": "40wQkMjupNSW",
        "outputId": "cb022054-daac-414c-93e4-4075e5688fd2"
      },
      "execution_count": null,
      "outputs": [
        {
          "output_type": "display_data",
          "data": {
            "text/plain": [
              "<Figure size 864x432 with 2 Axes>"
            ],
            "image/png": "[encoded data removed]"
          },
          "metadata": {
            "needs_background": "light"
          }
        }
      ]
    },
    {
      "cell_type": "code",
      "source": [
        "# Nu er det din tur, kan du løse opgave 5.13 og generere en stikprøve? "
      ],
      "metadata": {
        "id": "zA063Z5qIUyU"
      },
      "execution_count": null,
      "outputs": []
    }
  ]
}