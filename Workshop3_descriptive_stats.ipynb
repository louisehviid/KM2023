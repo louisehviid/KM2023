{
  "nbformat": 4,
  "nbformat_minor": 0,
  "metadata": {
    "colab": {
      "provenance": [],
      "authorship_tag": "ABX9TyN5yNpL5yr9foww3NaLYbOt",
      "include_colab_link": true
    },
    "kernelspec": {
      "name": "python3",
      "display_name": "Python 3"
    },
    "language_info": {
      "name": "python"
    }
  },
  "cells": [
    {
      "cell_type": "markdown",
      "metadata": {
        "id": "view-in-github",
        "colab_type": "text"
      },
      "source": [
        "<a href=\"https://colab.research.google.com/github/louisehviid/KM2023/blob/main/Workshop3_descriptive_stats.ipynb\" target=\"_parent\"><img src=\"https://colab.research.google.com/assets/colab-badge.svg\" alt=\"Open In Colab\"/></a>"
      ]
    },
    {
      "cell_type": "markdown",
      "source": [
        "# Introduktion til workshop 3"
      ],
      "metadata": {
        "id": "Bb7-C8aKNHef"
      }
    },
    {
      "cell_type": "markdown",
      "source": [
        "I denne colaboratory fil, viser vi nogle eksempler af hvordan I kan løse forskellige opgave typer ved brug af python. I kan bruge disse eksempler til at hjælpe jer på vej til at løse jeres egne opgaver.\n",
        "\n",
        "\n",
        "---\n",
        "\n",
        "Vi vil bruge pandas til at indlæse vores dataset og organisere dem, og vi vil bruge pandas og numpy til at lave nogle beregninger, og matplotlib til at visualisere vores beregninger i workshop 3 (kapitel 4)."
      ],
      "metadata": {
        "id": "quFf2KEMNTWU"
      }
    },
    {
      "cell_type": "markdown",
      "source": [
        "# Mean and median"
      ],
      "metadata": {
        "id": "Mi49LruOQzQw"
      }
    },
    {
      "cell_type": "markdown",
      "source": [
        "Opgave 4.10 som eksempel på hvordan vi beregner en mean og median."
      ],
      "metadata": {
        "id": "sanbrhv3Q4aa"
      }
    },
    {
      "cell_type": "code",
      "source": [
        "#Step 1\n",
        "#Import pandas og numpy\n",
        "\n",
        "import pandas as pd\n",
        "import numpy as np"
      ],
      "metadata": {
        "id": "7f6k4iNxBi4r"
      },
      "execution_count": 1,
      "outputs": []
    },
    {
      "cell_type": "code",
      "execution_count": 2,
      "metadata": {
        "id": "QcS4Ey_JM-oC"
      },
      "outputs": [],
      "source": [
        "#Step 2\n",
        "#Reading the excel file into a pandas dataframe\n",
        "data = pd.read_excel('https://raw.githubusercontent.com/louisehviid/km2023/main/data/Chapter4/Xr04-10.xlsx')\n"
      ]
    },
    {
      "cell_type": "code",
      "source": [
        "#Step 3\n",
        "#tag et kig på dataen\n",
        "\n",
        "data.head"
      ],
      "metadata": {
        "colab": {
          "base_uri": "https://localhost:8080/"
        },
        "id": "S6m9eJQDB3pj",
        "outputId": "caa7bf1e-4a76-482a-e7fd-a2563ea04d77"
      },
      "execution_count": 3,
      "outputs": [
        {
          "output_type": "execute_result",
          "data": {
            "text/plain": [
              "<bound method NDFrame.head of      Bidders\n",
              "0         41\n",
              "1         56\n",
              "2         73\n",
              "3         51\n",
              "4         35\n",
              "..       ...\n",
              "151       18\n",
              "152       41\n",
              "153       65\n",
              "154       69\n",
              "155       47\n",
              "\n",
              "[156 rows x 1 columns]>"
            ]
          },
          "metadata": {},
          "execution_count": 3
        }
      ]
    },
    {
      "cell_type": "code",
      "source": [
        "#Step 4\n",
        "\n",
        "# Calculating the mean of the 'Bidders' \n",
        "mean = data['Bidders'].mean()\n",
        "print(\"Mean: \", mean)\n",
        "\n",
        "# Calculating the median of the 'Bidders' \n",
        "median = data['Bidders'].median()\n",
        "print(\"Median: \", median)\n",
        "\n",
        "# Calculating the mode of the 'Bidders' \n",
        "mode = data['Bidders'].mode().get(0)\n",
        "print(\"Mode: \", mode)\n"
      ],
      "metadata": {
        "colab": {
          "base_uri": "https://localhost:8080/"
        },
        "id": "xUQkSBMQC6la",
        "outputId": "177c7f3f-5ff2-4cbf-958c-b25412478cda"
      },
      "execution_count": null,
      "outputs": [
        {
          "output_type": "stream",
          "name": "stdout",
          "text": [
            "Mean:  54.91025641025641\n",
            "Median:  55.0\n",
            "Mode:  62\n"
          ]
        }
      ]
    },
    {
      "cell_type": "code",
      "source": [
        "#Step 5\n",
        "#vi kan lige visualisere disse, men så skal vi bruge det matplotlib library vi brugte i workshop 2\n",
        "import matplotlib.pyplot as plt\n",
        "\n",
        "# Creating a dictionary of the central tendencies and their values\n",
        "central_tendencies = {'Mean': mean, 'Median': median, 'Mode': mode}\n",
        "\n",
        "# Plotting the results\n",
        "plt.bar(central_tendencies.keys(), central_tendencies.values())\n",
        "plt.xlabel('Central Tendency')\n",
        "plt.ylabel('Value of Bids')\n",
        "plt.title('Measures of Central Tendency')\n",
        "\n",
        "# Displaying the graph\n",
        "plt.show()"
      ],
      "metadata": {
        "colab": {
          "base_uri": "https://localhost:8080/",
          "height": 295
        },
        "id": "zX1GcSHEEN2y",
        "outputId": "68e2ed48-c11f-463c-ee83-7502b9f03728"
      },
      "execution_count": null,
      "outputs": [
        {
          "output_type": "display_data",
          "data": {
            "text/plain": [
              "<Figure size 432x288 with 1 Axes>"
            ],
            "image/png": "[encoded data removed]"
          },
          "metadata": {
            "needs_background": "light"
          }
        }
      ]
    },
    {
      "cell_type": "code",
      "source": [
        "#Step 6\n",
        "\n",
        "#Det kan også være meget godt at se disse centrale tendense i konteksten af et histogram\n",
        "\n",
        "# Plotting the histogram of the 'bidders' data\n",
        "plt.hist(data['Bidders'], bins=20, edgecolor='black', alpha=0.5)\n",
        "\n",
        "# Adding vertical lines to represent the mean, median, and mode\n",
        "plt.axvline(mean, color='red', linestyle='--', label='mean')\n",
        "plt.axvline(median, color='green', linestyle='-', label='median')\n",
        "plt.axvline(mode, color='purple', linestyle=':', label='mode')\n",
        "\n",
        "# Adding a legend to the plot\n",
        "plt.legend()\n",
        "\n",
        "# Adding labels to the x-axis and y-axis\n",
        "plt.xlabel('Bids')\n",
        "plt.ylabel('Frequency')\n",
        "\n",
        "# Adding a title to the plot\n",
        "plt.title('Histogram with measures of mean, median and mode')\n",
        "\n",
        "# Displaying the plot\n",
        "plt.show()"
      ],
      "metadata": {
        "colab": {
          "base_uri": "https://localhost:8080/",
          "height": 295
        },
        "id": "xpIKxLd1FA-K",
        "outputId": "4fc643b9-6bcc-4e99-d0d8-6685b609790e"
      },
      "execution_count": null,
      "outputs": [
        {
          "output_type": "display_data",
          "data": {
            "text/plain": [
              "<Figure size 432x288 with 1 Axes>"
            ],
            "image/png": "[encoded data removed]"
          },
          "metadata": {
            "needs_background": "light"
          }
        }
      ]
    },
    {
      "cell_type": "code",
      "source": [
        "#Step 7\n",
        "#Hvad fortæller disse mål om denne stikprøve af bud på ugentlige aktioner?\n",
        "#Hvordan kan man fortolke disse mål af central tendens? Hvad fortæller de os?"
      ],
      "metadata": {
        "id": "nGIGoJdqG--6"
      },
      "execution_count": null,
      "outputs": []
    },
    {
      "cell_type": "code",
      "source": [
        "# Nu er det din tur, kan du løse opgave 4.12 (Dataset Xr04-12)"
      ],
      "metadata": {
        "id": "zA063Z5qIUyU"
      },
      "execution_count": null,
      "outputs": []
    },
    {
      "cell_type": "markdown",
      "source": [
        "# Variance and Standard Deviation"
      ],
      "metadata": {
        "id": "VtNzzAsjJhSz"
      }
    },
    {
      "cell_type": "markdown",
      "source": [
        "Opgave 4.36 som eksempel på hvordan vi beregner en range, variation og standard deviation. "
      ],
      "metadata": {
        "id": "y6t2wFxRrgeL"
      }
    },
    {
      "cell_type": "code",
      "source": [
        "#Step 1\n",
        "#Import libraries we need\n",
        "import pandas as pd\n",
        "import matplotlib.pyplot as plt"
      ],
      "metadata": {
        "id": "B4IRhNvaIzgM"
      },
      "execution_count": 10,
      "outputs": []
    },
    {
      "cell_type": "code",
      "source": [
        "#Step 2\n",
        "#Read data (example 04-36)\n",
        "data = pd.read_excel('https://raw.githubusercontent.com/louisehviid/km2023/main/data/Chapter4/Xr04-36.xlsx')\n",
        "\n",
        "data.head\n"
      ],
      "metadata": {
        "id": "PP3Zdcixr7V_",
        "colab": {
          "base_uri": "https://localhost:8080/"
        },
        "outputId": "1e4d9985-1f67-4abc-e431-02fb462a2009"
      },
      "execution_count": 11,
      "outputs": [
        {
          "output_type": "execute_result",
          "data": {
            "text/plain": [
              "<bound method NDFrame.head of     Prozac\n",
              "0   102.05\n",
              "1    99.85\n",
              "2   112.30\n",
              "3    97.15\n",
              "4   111.23\n",
              "..     ...\n",
              "95  102.81\n",
              "96  109.56\n",
              "97  103.35\n",
              "98  113.02\n",
              "99  103.79\n",
              "\n",
              "[100 rows x 1 columns]>"
            ]
          },
          "metadata": {},
          "execution_count": 11
        }
      ]
    },
    {
      "cell_type": "code",
      "source": [
        "#Step 3\n",
        "\n",
        "# find the price range of values in Prozac\n",
        "range = data['Prozac'].max() - data['Prozac'].min()\n",
        "print(\"Range: \", range)\n",
        "\n",
        "# Calculating the variance and standard deviation of a column in the dataframe\n",
        "variance = data['Prozac'].var()\n",
        "print(\"Variance: \", variance)\n",
        "\n",
        "standard_deviation = data['Prozac'].std()\n",
        "print(\"Standard Deviation: \", standard_deviation)\n",
        "\n"
      ],
      "metadata": {
        "id": "if4EvWTDsK99",
        "colab": {
          "base_uri": "https://localhost:8080/"
        },
        "outputId": "b2ac5d2d-b4e3-4e08-9079-b7683b63612b"
      },
      "execution_count": 12,
      "outputs": [
        {
          "output_type": "stream",
          "name": "stdout",
          "text": [
            "Range:  25.85000000000001\n",
            "Variance:  29.455223222222216\n",
            "Standard Deviation:  5.427266643737179\n"
          ]
        }
      ]
    },
    {
      "cell_type": "code",
      "source": [
        "#Step 4\n",
        "#To get an overview of the spead, it can be good to visualize the variance and SD around the mean.\n",
        "\n",
        "#Calculating mean\n",
        "mean = data['Prozac'].mean()\n",
        "\n",
        "#Plotting the histogram of the column data\n",
        "plt.hist(data['Prozac'], bins=20, edgecolor='black', alpha=0.5)\n",
        "\n",
        "# Adding vertical lines to represent one standard deviation above and below the mean\n",
        "\n",
        "plt.axvline(mean - standard_deviation, color='red', linestyle='--', label='-1 SD')\n",
        "plt.axvline(mean + standard_deviation, color='red', linestyle='--', label='+1 SD')\n",
        "plt.axvline(mean + variance/2, color='green', label='+ Variance', linestyle='dashed')\n",
        "plt.axvline(mean - variance/2, color='green', label='- Variance', linestyle='dashed')\n",
        "\n",
        "# Adding labels to the x-axis and y-axis\n",
        "plt.xlabel('Prozac prices')\n",
        "plt.ylabel('Frequency')\n",
        "\n",
        "# Adding a title to the plot\n",
        "plt.title('Histogram with Measures of Spread (Variance and Standard Deviation)')\n",
        "\n",
        "# Displaying the plot\n",
        "plt.legend()\n",
        "plt.show()\n",
        "\n"
      ],
      "metadata": {
        "colab": {
          "base_uri": "https://localhost:8080/",
          "height": 295
        },
        "id": "wVuYYvRGuzB4",
        "outputId": "d9535e63-a8ba-414c-fead-5a48a5e68c99"
      },
      "execution_count": 19,
      "outputs": [
        {
          "output_type": "display_data",
          "data": {
            "text/plain": [
              "<Figure size 432x288 with 1 Axes>"
            ],
            "image/png": "[encoded data removed]"
          },
          "metadata": {
            "needs_background": "light"
          }
        }
      ]
    },
    {
      "cell_type": "code",
      "source": [
        "# Hvad fortæller disse mål os om stikprøven af Prozac medicinens priser?"
      ],
      "metadata": {
        "id": "OKIzdTW6NlgP"
      },
      "execution_count": null,
      "outputs": []
    },
    {
      "cell_type": "code",
      "source": [
        "#Din tur, kan du løse opgave 4.37 (med dataset Xr04-37)"
      ],
      "metadata": {
        "id": "DolhekhizSPb"
      },
      "execution_count": null,
      "outputs": []
    },
    {
      "cell_type": "code",
      "source": [
        "#Step 1 - 5"
      ],
      "metadata": {
        "id": "vaBRAwhA_J4o"
      },
      "execution_count": null,
      "outputs": []
    },
    {
      "cell_type": "markdown",
      "source": [
        "# Percentiles and Quartiles"
      ],
      "metadata": {
        "id": "xzm13ah7_Sxm"
      }
    },
    {
      "cell_type": "markdown",
      "source": [
        "Opgave 4.67 som eksempel på hvordan vi beregner quartiles.\n"
      ],
      "metadata": {
        "id": "YiMyw0f4AyP0"
      }
    },
    {
      "cell_type": "code",
      "source": [
        "#Step 1\n",
        "import pandas as pd\n",
        "import matplotlib.pyplot as plt\n"
      ],
      "metadata": {
        "id": "Weq5Op7uBXIH"
      },
      "execution_count": 23,
      "outputs": []
    },
    {
      "cell_type": "code",
      "source": [
        "#Step 2\n",
        "# Reading the Excel file into a Pandas dataframe\n",
        "data= pd.read_excel('https://raw.githubusercontent.com/louisehviid/km2023/main/data/Chapter4/Xr04-67.xlsx')\n",
        "\n",
        "data.head"
      ],
      "metadata": {
        "colab": {
          "base_uri": "https://localhost:8080/"
        },
        "id": "jIrfgFYoB9v8",
        "outputId": "bb40bd02-fd9b-4c41-cb85-d7a14bc5de20"
      },
      "execution_count": 24,
      "outputs": [
        {
          "output_type": "execute_result",
          "data": {
            "text/plain": [
              "<bound method NDFrame.head of      Spend\n",
              "0       50\n",
              "1       25\n",
              "2       50\n",
              "3      110\n",
              "4      370\n",
              "..     ...\n",
              "157    100\n",
              "158     50\n",
              "159    110\n",
              "160     25\n",
              "161    340\n",
              "\n",
              "[162 rows x 1 columns]>"
            ]
          },
          "metadata": {},
          "execution_count": 24
        }
      ]
    },
    {
      "cell_type": "code",
      "source": [
        "#Step 3\n",
        "\n",
        "# Calculating the percentiles and quartiles\n",
        "percentiles = data['Spend'].quantile([0.25, 0.5, 0.75])\n",
        "\n",
        "first_quartile = percentiles[0.25]\n",
        "median = percentiles[0.5]\n",
        "third_quartile = percentiles[0.75]\n",
        "\n",
        "\n"
      ],
      "metadata": {
        "id": "1Lz4xcOQDTdH"
      },
      "execution_count": 25,
      "outputs": []
    },
    {
      "cell_type": "code",
      "source": [
        "# Step 4\n",
        "#Visualizing these \n",
        "\n",
        "# plot the data and measures on a histogram\n",
        "plt.hist(data['Spend'], bins=20, edgecolor='black', alpha=0.5)\n",
        "\n",
        "plt.axvline(first_quartile, color='red', label='1st Quartile')\n",
        "plt.axvline(median, color='green', label='Median')\n",
        "plt.axvline(third_quartile, color='red', label='3rd Quartile')\n",
        "plt.legend()\n",
        "plt.show()"
      ],
      "metadata": {
        "colab": {
          "base_uri": "https://localhost:8080/",
          "height": 265
        },
        "id": "RVwOXzspGlCx",
        "outputId": "7d7e8524-713f-43be-ba56-b90c2c90ba0b"
      },
      "execution_count": 26,
      "outputs": [
        {
          "output_type": "display_data",
          "data": {
            "text/plain": [
              "<Figure size 432x288 with 1 Axes>"
            ],
            "image/png": "[encoded data removed]"
          },
          "metadata": {
            "needs_background": "light"
          }
        }
      ]
    },
    {
      "cell_type": "code",
      "source": [
        "#Hvad fortæller dataen dig, "
      ],
      "metadata": {
        "id": "d1q3bNi5SFZJ"
      },
      "execution_count": null,
      "outputs": []
    },
    {
      "cell_type": "code",
      "source": [
        "#Din tur, kan du lave opgave 4.71 (med datasættet Xr04-71)"
      ],
      "metadata": {
        "id": "tIDxbLRGSmU-"
      },
      "execution_count": null,
      "outputs": []
    },
    {
      "cell_type": "markdown",
      "source": [
        "# Covariance, the coefficient of correlation and the coefficient of determination"
      ],
      "metadata": {
        "id": "-Uelr17cRCGU"
      }
    },
    {
      "cell_type": "markdown",
      "source": [
        "Opgave 4.82 som eksempel på hvordan man kan beregne covariance, coefficient of correlation, and coefficient of determination."
      ],
      "metadata": {
        "id": "FmTodsvXSkAz"
      }
    },
    {
      "cell_type": "code",
      "source": [
        "#'libraries' som vi skal bruge\n",
        "import pandas as pd\n",
        "import numpy as np"
      ],
      "metadata": {
        "id": "OONr3dGURcrZ"
      },
      "execution_count": 27,
      "outputs": []
    },
    {
      "cell_type": "code",
      "source": [
        "##Step 2\n",
        "# Reading the Excel file into a Pandas dataframe\n",
        "data= pd.read_excel('https://raw.githubusercontent.com/louisehviid/km2023/main/data/Chapter4/Xr04-82.xlsx')\n",
        "\n",
        "data.head\n",
        "\n"
      ],
      "metadata": {
        "colab": {
          "base_uri": "https://localhost:8080/"
        },
        "id": "WwFc15w2fvtw",
        "outputId": "48f8a74b-2150-4fe4-e05d-72ee84b84b1d"
      },
      "execution_count": 28,
      "outputs": [
        {
          "output_type": "execute_result",
          "data": {
            "text/plain": [
              "<bound method NDFrame.head of    Total Sales  Selling Expenses\n",
              "0           20                14\n",
              "1           40                16\n",
              "2           60                18\n",
              "3           50                17\n",
              "4           50                18\n",
              "5           55                18\n",
              "6           60                18\n",
              "7           70                20>"
            ]
          },
          "metadata": {},
          "execution_count": 28
        }
      ]
    },
    {
      "cell_type": "code",
      "source": [
        "\n",
        "# Calculate the covariance\n",
        "covariance = data.cov().loc[\"Total Sales\", \"Selling Expenses\"]\n",
        "print(\"Covariance:\", covariance)\n"
      ],
      "metadata": {
        "colab": {
          "base_uri": "https://localhost:8080/"
        },
        "id": "odr9SMZ8RBTR",
        "outputId": "707997a2-dd42-4798-a481-1e9be69272ad"
      },
      "execution_count": 31,
      "outputs": [
        {
          "output_type": "stream",
          "name": "stdout",
          "text": [
            "Covariance: 26.160714285714285\n"
          ]
        }
      ]
    },
    {
      "cell_type": "code",
      "source": [
        "# Calculate the coefficient of correlation\n",
        "correlation = data.corr().loc[\"Total Sales\", \"Selling Expenses\"]\n",
        "print(\"Coefficient of correlation:\", correlation)"
      ],
      "metadata": {
        "colab": {
          "base_uri": "https://localhost:8080/"
        },
        "id": "O5F4hCE1RLbQ",
        "outputId": "288d48ee-9d92-4a17-b0f0-4d301d946553"
      },
      "execution_count": 32,
      "outputs": [
        {
          "output_type": "stream",
          "name": "stdout",
          "text": [
            "Coefficient of correlation: 0.9722208197334331\n"
          ]
        }
      ]
    },
    {
      "cell_type": "code",
      "source": [
        "# Calculate the coefficient of determination\n",
        "determination = correlation**2\n",
        "print(\"Coefficient of determination:\", determination)"
      ],
      "metadata": {
        "colab": {
          "base_uri": "https://localhost:8080/"
        },
        "id": "00711p00RNsC",
        "outputId": "5b0a1236-afc1-4cd5-b44d-45b1f51c104a"
      },
      "execution_count": 33,
      "outputs": [
        {
          "output_type": "stream",
          "name": "stdout",
          "text": [
            "Coefficient of determination: 0.9452133223231486\n"
          ]
        }
      ]
    },
    {
      "cell_type": "code",
      "source": [
        "#Plotting the data\n",
        "\n",
        "import matplotlib.pyplot as plt\n",
        "\n",
        "## Select the columns to use as x and y data\n",
        "x = data[\"Selling Expenses\"]\n",
        "y = data[\"Total Sales\"]\n",
        "\n",
        "\n",
        "# Plot the data\n",
        "plt.scatter(x,y)\n",
        "plt.xlabel(\"Selling Expenses\")\n",
        "plt.ylabel(\"Total Sales\")\n",
        "plt.title(\"Selling Expenses vs. Total Sales\")\n"
      ],
      "metadata": {
        "colab": {
          "base_uri": "https://localhost:8080/",
          "height": 312
        },
        "id": "_JlbldMoSRab",
        "outputId": "628d8087-56b0-48ee-a3ae-ed516932cf33"
      },
      "execution_count": 34,
      "outputs": [
        {
          "output_type": "execute_result",
          "data": {
            "text/plain": [
              "Text(0.5, 1.0, 'Selling Expenses vs. Total Sales')"
            ]
          },
          "metadata": {},
          "execution_count": 34
        },
        {
          "output_type": "display_data",
          "data": {
            "text/plain": [
              "<Figure size 432x288 with 1 Axes>"
            ],
            "image/png": "[encoded data removed]"
          },
          "metadata": {
            "needs_background": "light"
          }
        }
      ]
    },
    {
      "cell_type": "code",
      "source": [
        "#Calculating and plotting the least square line \n",
        "\n",
        "# Calculate the least squares line\n",
        "selling_mean = data[\"Selling Expenses\"].mean()\n",
        "total_mean = data[\"Total Sales\"].mean()\n",
        "\n",
        "num = ((data[\"Selling Expenses\"] - selling_mean) * (data[\"Total Sales\"] - total_mean)).sum()\n",
        "den = ((data[\"Selling Expenses\"] - selling_mean)**2).sum()\n",
        "\n",
        "slope = num / den\n",
        "print(\"Slope:\", slope)\n",
        "\n",
        "intercept = total_mean - slope * selling_mean\n",
        "print(\"Intercept:\", intercept)\n",
        "\n",
        "# Use the line to make predictions\n",
        "predictions = intercept + slope * data[\"Selling Expenses\"]\n",
        "\n",
        "# Plot the data\n",
        "plt.scatter(x,y)\n",
        "\n",
        "# Plot the line\n",
        "plt.plot(data[\"Selling Expenses\"], predictions, color='red')\n",
        "plt.xlabel(\"Selling Expenses\")\n",
        "plt.ylabel(\"Total Sales\")\n",
        "plt.title(\"Selling Expenses vs. Total Sales\")\n",
        "\n",
        "# Show the plot\n",
        "plt.show()\n"
      ],
      "metadata": {
        "colab": {
          "base_uri": "https://localhost:8080/",
          "height": 330
        },
        "id": "4zWc60gJpHGc",
        "outputId": "a901147d-645e-423b-8195-e81cce503289"
      },
      "execution_count": 44,
      "outputs": [
        {
          "output_type": "stream",
          "name": "stdout",
          "text": [
            "Slope: 8.371428571428572\n",
            "Intercept: -94.82857142857145\n"
          ]
        },
        {
          "output_type": "display_data",
          "data": {
            "text/plain": [
              "<Figure size 432x288 with 1 Axes>"
            ],
            "image/png": "[encoded data removed]"
          },
          "metadata": {
            "needs_background": "light"
          }
        }
      ]
    },
    {
      "cell_type": "code",
      "source": [
        "#To use the the least square line to make estimates...\n",
        "\n",
        "print(\"The equation for the line is y = {:.2f} + {:.2f}x\".format(intercept, slope))\n"
      ],
      "metadata": {
        "colab": {
          "base_uri": "https://localhost:8080/"
        },
        "id": "851MQvOVsaV4",
        "outputId": "d8994886-6ad7-44c2-8c43-9f6295d8a5c3"
      },
      "execution_count": 43,
      "outputs": [
        {
          "output_type": "stream",
          "name": "stdout",
          "text": [
            "The equation for the line is y = -94.83 + 8.37x\n"
          ]
        }
      ]
    },
    {
      "cell_type": "code",
      "source": [],
      "metadata": {
        "id": "CvI_Q--utkhy"
      },
      "execution_count": null,
      "outputs": []
    }
  ]
}