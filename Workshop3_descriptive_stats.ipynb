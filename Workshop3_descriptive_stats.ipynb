{
  "nbformat": 4,
  "nbformat_minor": 0,
  "metadata": {
    "colab": {
      "provenance": [],
      "authorship_tag": "ABX9TyPnDw0pROA2E2M3wqbS9Luh",
      "include_colab_link": true
    },
    "kernelspec": {
      "name": "python3",
      "display_name": "Python 3"
    },
    "language_info": {
      "name": "python"
    }
  },
  "cells": [
    {
      "cell_type": "markdown",
      "metadata": {
        "id": "view-in-github",
        "colab_type": "text"
      },
      "source": [
        "<a href=\"https://colab.research.google.com/github/louisehviid/KM2023/blob/main/Workshop3_descriptive_stats.ipynb\" target=\"_parent\"><img src=\"https://colab.research.google.com/assets/colab-badge.svg\" alt=\"Open In Colab\"/></a>"
      ]
    },
    {
      "cell_type": "markdown",
      "source": [
        "# Introduktion til workshop 3"
      ],
      "metadata": {
        "id": "Bb7-C8aKNHef"
      }
    },
    {
      "cell_type": "markdown",
      "source": [
        "I denne colaboratory fil, viser vi nogle eksempler af hvordan I kan løse forskellige opgave typer ved brug af python. I kan bruge disse eksempler til at hjælpe jer på vej til at løse jeres egne opgaver.\n",
        "\n",
        "\n",
        "---\n",
        "\n",
        "Vi vil bruge pandas til at indlæse vores dataset og organisere dem, og vi vil bruge pandas og numpy til at lave nogle beregninger, og matplotlib til at visualisere vores beregninger i workshop 3 (kapitel 4)."
      ],
      "metadata": {
        "id": "quFf2KEMNTWU"
      }
    },
    {
      "cell_type": "markdown",
      "source": [
        "# Mean and median"
      ],
      "metadata": {
        "id": "Mi49LruOQzQw"
      }
    },
    {
      "cell_type": "markdown",
      "source": [
        "Opgave 4.10 som eksempel på hvordan vi beregner en mean og median"
      ],
      "metadata": {
        "id": "sanbrhv3Q4aa"
      }
    },
    {
      "cell_type": "code",
      "source": [
        "#Step 1\n",
        "#Import pandas og numpy\n",
        "\n",
        "import pandas as pd\n",
        "import numpy as np"
      ],
      "metadata": {
        "id": "7f6k4iNxBi4r"
      },
      "execution_count": 2,
      "outputs": []
    },
    {
      "cell_type": "code",
      "execution_count": 3,
      "metadata": {
        "id": "QcS4Ey_JM-oC"
      },
      "outputs": [],
      "source": [
        "#Step 2\n",
        "#Reading the excel file into a pandas dataframe\n",
        "data = pd.read_excel('https://raw.githubusercontent.com/louisehviid/km2023/main/data/Chapter4/Xr04-10.xlsx')\n"
      ]
    },
    {
      "cell_type": "code",
      "source": [
        "#Step 3\n",
        "#tag et kig på dataen\n",
        "\n",
        "data.head"
      ],
      "metadata": {
        "colab": {
          "base_uri": "https://localhost:8080/"
        },
        "id": "S6m9eJQDB3pj",
        "outputId": "7e4384d2-b2c9-49b1-8971-a882e8189066"
      },
      "execution_count": 4,
      "outputs": [
        {
          "output_type": "execute_result",
          "data": {
            "text/plain": [
              "<bound method NDFrame.head of      Bidders\n",
              "0         41\n",
              "1         56\n",
              "2         73\n",
              "3         51\n",
              "4         35\n",
              "..       ...\n",
              "151       18\n",
              "152       41\n",
              "153       65\n",
              "154       69\n",
              "155       47\n",
              "\n",
              "[156 rows x 1 columns]>"
            ]
          },
          "metadata": {},
          "execution_count": 4
        }
      ]
    },
    {
      "cell_type": "code",
      "source": [
        "#Step 4\n",
        "\n",
        "# Calculating the mean of the 'Bidders' column in the dataframe\n",
        "mean = data['Bidders'].mean()\n",
        "print(\"Mean: \", mean)\n",
        "\n",
        "# Calculating the median of the 'Bidders' column in the dataframe\n",
        "median = data['Bidders'].median()\n",
        "print(\"Median: \", median)\n",
        "\n",
        "# Calculating the mode of the 'Bidders' column in the dataframe\n",
        "mode = data['Bidders'].mode().get(0)\n",
        "print(\"Mode: \", mode)\n"
      ],
      "metadata": {
        "colab": {
          "base_uri": "https://localhost:8080/"
        },
        "id": "xUQkSBMQC6la",
        "outputId": "177c7f3f-5ff2-4cbf-958c-b25412478cda"
      },
      "execution_count": 5,
      "outputs": [
        {
          "output_type": "stream",
          "name": "stdout",
          "text": [
            "Mean:  54.91025641025641\n",
            "Median:  55.0\n",
            "Mode:  62\n"
          ]
        }
      ]
    },
    {
      "cell_type": "code",
      "source": [
        "#Step 5\n",
        "#vi kan lige visualisere disse, men så skal vi bruge det matplotlib library vi brugte i workshop 2\n",
        "import matplotlib.pyplot as plt\n",
        "\n",
        "# Creating a dictionary of the central tendencies and their values\n",
        "central_tendencies = {'Mean': mean, 'Median': median, 'Mode': mode}\n",
        "\n",
        "# Plotting the results\n",
        "plt.bar(central_tendencies.keys(), central_tendencies.values())\n",
        "plt.xlabel('Central Tendency')\n",
        "plt.ylabel('Value of Bids')\n",
        "plt.title('Measures of Central Tendency')\n",
        "\n",
        "# Displaying the graph\n",
        "plt.show()"
      ],
      "metadata": {
        "colab": {
          "base_uri": "https://localhost:8080/",
          "height": 295
        },
        "id": "zX1GcSHEEN2y",
        "outputId": "68e2ed48-c11f-463c-ee83-7502b9f03728"
      },
      "execution_count": 16,
      "outputs": [
        {
          "output_type": "display_data",
          "data": {
            "text/plain": [
              "<Figure size 432x288 with 1 Axes>"
            ],
            "image/png": "[encoded data removed]"
          },
          "metadata": {
            "needs_background": "light"
          }
        }
      ]
    },
    {
      "cell_type": "code",
      "source": [
        "#Step 6\n",
        "\n",
        "#Det kan være meget godt at se i konteksten af et histogram\n",
        "\n",
        "# Plotting the histogram of the column data\n",
        "plt.hist(data['Bidders'], bins=20, edgecolor='black', alpha=0.5)\n",
        "\n",
        "# Adding vertical lines to represent the mean, median, and mode\n",
        "plt.axvline(mean, color='red', linestyle='--', label='mean')\n",
        "plt.axvline(median, color='green', linestyle='-', label='median')\n",
        "plt.axvline(mode, color='purple', linestyle=':', label='mode')\n",
        "\n",
        "# Adding a legend to the plot\n",
        "plt.legend()\n",
        "\n",
        "# Adding labels to the x-axis and y-axis\n",
        "plt.xlabel('Bids')\n",
        "plt.ylabel('Frequency')\n",
        "\n",
        "# Adding a title to the plot\n",
        "plt.title('Histogram with measures of mean, median and mode')\n",
        "\n",
        "# Displaying the plot\n",
        "plt.show()"
      ],
      "metadata": {
        "colab": {
          "base_uri": "https://localhost:8080/",
          "height": 295
        },
        "id": "xpIKxLd1FA-K",
        "outputId": "4fc643b9-6bcc-4e99-d0d8-6685b609790e"
      },
      "execution_count": 15,
      "outputs": [
        {
          "output_type": "display_data",
          "data": {
            "text/plain": [
              "<Figure size 432x288 with 1 Axes>"
            ],
            "image/png": "[encoded data removed]"
          },
          "metadata": {
            "needs_background": "light"
          }
        }
      ]
    },
    {
      "cell_type": "code",
      "source": [
        "#Step 7\n",
        "#Hvordan kan man fortolke disse mål af central tendens? Hvad fortæller de os?"
      ],
      "metadata": {
        "id": "nGIGoJdqG--6"
      },
      "execution_count": null,
      "outputs": []
    },
    {
      "cell_type": "code",
      "source": [
        "# Din tur, kan du løse opgave...."
      ],
      "metadata": {
        "id": "zA063Z5qIUyU"
      },
      "execution_count": null,
      "outputs": []
    },
    {
      "cell_type": "markdown",
      "source": [
        "# Variance and Standard Deviation"
      ],
      "metadata": {
        "id": "VtNzzAsjJhSz"
      }
    },
    {
      "cell_type": "code",
      "source": [],
      "metadata": {
        "id": "B4IRhNvaIzgM"
      },
      "execution_count": null,
      "outputs": []
    }
  ]
}