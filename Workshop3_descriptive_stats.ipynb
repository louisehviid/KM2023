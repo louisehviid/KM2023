{
  "nbformat": 4,
  "nbformat_minor": 0,
  "metadata": {
    "colab": {
      "provenance": [],
      "authorship_tag": "ABX9TyN8UCgro23cIwoXPMKCzs+s",
      "include_colab_link": true
    },
    "kernelspec": {
      "name": "python3",
      "display_name": "Python 3"
    },
    "language_info": {
      "name": "python"
    }
  },
  "cells": [
    {
      "cell_type": "markdown",
      "metadata": {
        "id": "view-in-github",
        "colab_type": "text"
      },
      "source": [
        "<a href=\"https://colab.research.google.com/github/louisehviid/KM2023/blob/main/Workshop3_descriptive_stats.ipynb\" target=\"_parent\"><img src=\"https://colab.research.google.com/assets/colab-badge.svg\" alt=\"Open In Colab\"/></a>"
      ]
    },
    {
      "cell_type": "markdown",
      "source": [
        "# Introduktion til workshop 3"
      ],
      "metadata": {
        "id": "Bb7-C8aKNHef"
      }
    },
    {
      "cell_type": "markdown",
      "source": [
        "I denne colaboratory fil, viser vi nogle eksempler af hvordan I kan løse forskellige opgave typer ved brug af python. I kan bruge disse eksempler til at hjælpe jer på vej til at løse jeres egne opgaver.\n",
        "\n",
        "\n",
        "---\n",
        "\n",
        "Vi vil bruge pandas til at indlæse vores dataset og organisere dem, og vi vil bruge pandas og numpy til at lave nogle beregninger, og matplotlib til at visualisere vores beregninger i workshop 3 (kapitel 4)."
      ],
      "metadata": {
        "id": "quFf2KEMNTWU"
      }
    },
    {
      "cell_type": "markdown",
      "source": [
        "# Mean and median"
      ],
      "metadata": {
        "id": "Mi49LruOQzQw"
      }
    },
    {
      "cell_type": "markdown",
      "source": [
        "Opgave 4.10 som eksempel på hvordan vi beregner en mean og median"
      ],
      "metadata": {
        "id": "sanbrhv3Q4aa"
      }
    },
    {
      "cell_type": "code",
      "source": [
        "#Step 1\n",
        "#Import pandas og numpy\n",
        "\n",
        "import pandas as pd\n",
        "import numpy as np"
      ],
      "metadata": {
        "id": "7f6k4iNxBi4r"
      },
      "execution_count": null,
      "outputs": []
    },
    {
      "cell_type": "code",
      "execution_count": null,
      "metadata": {
        "id": "QcS4Ey_JM-oC"
      },
      "outputs": [],
      "source": [
        "#Step 2\n",
        "#Reading the excel file into a pandas dataframe\n",
        "data = pd.read_excel('https://raw.githubusercontent.com/louisehviid/km2023/main/data/Chapter4/Xr04-10.xlsx')\n"
      ]
    },
    {
      "cell_type": "code",
      "source": [
        "#Step 3\n",
        "#tag et kig på dataen\n",
        "\n",
        "data.head"
      ],
      "metadata": {
        "colab": {
          "base_uri": "https://localhost:8080/"
        },
        "id": "S6m9eJQDB3pj",
        "outputId": "7e4384d2-b2c9-49b1-8971-a882e8189066"
      },
      "execution_count": null,
      "outputs": [
        {
          "output_type": "execute_result",
          "data": {
            "text/plain": [
              "<bound method NDFrame.head of      Bidders\n",
              "0         41\n",
              "1         56\n",
              "2         73\n",
              "3         51\n",
              "4         35\n",
              "..       ...\n",
              "151       18\n",
              "152       41\n",
              "153       65\n",
              "154       69\n",
              "155       47\n",
              "\n",
              "[156 rows x 1 columns]>"
            ]
          },
          "metadata": {},
          "execution_count": 4
        }
      ]
    },
    {
      "cell_type": "code",
      "source": [
        "#Step 4\n",
        "\n",
        "# Calculating the mean of the 'Bidders' column in the dataframe\n",
        "mean = data['Bidders'].mean()\n",
        "print(\"Mean: \", mean)\n",
        "\n",
        "# Calculating the median of the 'Bidders' column in the dataframe\n",
        "median = data['Bidders'].median()\n",
        "print(\"Median: \", median)\n",
        "\n",
        "# Calculating the mode of the 'Bidders' column in the dataframe\n",
        "mode = data['Bidders'].mode().get(0)\n",
        "print(\"Mode: \", mode)\n"
      ],
      "metadata": {
        "colab": {
          "base_uri": "https://localhost:8080/"
        },
        "id": "xUQkSBMQC6la",
        "outputId": "177c7f3f-5ff2-4cbf-958c-b25412478cda"
      },
      "execution_count": null,
      "outputs": [
        {
          "output_type": "stream",
          "name": "stdout",
          "text": [
            "Mean:  54.91025641025641\n",
            "Median:  55.0\n",
            "Mode:  62\n"
          ]
        }
      ]
    },
    {
      "cell_type": "code",
      "source": [
        "#Step 5\n",
        "#vi kan lige visualisere disse, men så skal vi bruge det matplotlib library vi brugte i workshop 2\n",
        "import matplotlib.pyplot as plt\n",
        "\n",
        "# Creating a dictionary of the central tendencies and their values\n",
        "central_tendencies = {'Mean': mean, 'Median': median, 'Mode': mode}\n",
        "\n",
        "# Plotting the results\n",
        "plt.bar(central_tendencies.keys(), central_tendencies.values())\n",
        "plt.xlabel('Central Tendency')\n",
        "plt.ylabel('Value of Bids')\n",
        "plt.title('Measures of Central Tendency')\n",
        "\n",
        "# Displaying the graph\n",
        "plt.show()"
      ],
      "metadata": {
        "colab": {
          "base_uri": "https://localhost:8080/",
          "height": 295
        },
        "id": "zX1GcSHEEN2y",
        "outputId": "68e2ed48-c11f-463c-ee83-7502b9f03728"
      },
      "execution_count": null,
      "outputs": [
        {
          "output_type": "display_data",
          "data": {
            "text/plain": [
              "<Figure size 432x288 with 1 Axes>"
            ],
            "image/png": "[encoded data removed]"
          },
          "metadata": {
            "needs_background": "light"
          }
        }
      ]
    },
    {
      "cell_type": "code",
      "source": [
        "#Step 6\n",
        "\n",
        "#Det kan være meget godt at se i konteksten af et histogram\n",
        "\n",
        "# Plotting the histogram of the column data\n",
        "plt.hist(data['Bidders'], bins=20, edgecolor='black', alpha=0.5)\n",
        "\n",
        "# Adding vertical lines to represent the mean, median, and mode\n",
        "plt.axvline(mean, color='red', linestyle='--', label='mean')\n",
        "plt.axvline(median, color='green', linestyle='-', label='median')\n",
        "plt.axvline(mode, color='purple', linestyle=':', label='mode')\n",
        "\n",
        "# Adding a legend to the plot\n",
        "plt.legend()\n",
        "\n",
        "# Adding labels to the x-axis and y-axis\n",
        "plt.xlabel('Bids')\n",
        "plt.ylabel('Frequency')\n",
        "\n",
        "# Adding a title to the plot\n",
        "plt.title('Histogram with measures of mean, median and mode')\n",
        "\n",
        "# Displaying the plot\n",
        "plt.show()"
      ],
      "metadata": {
        "colab": {
          "base_uri": "https://localhost:8080/",
          "height": 295
        },
        "id": "xpIKxLd1FA-K",
        "outputId": "4fc643b9-6bcc-4e99-d0d8-6685b609790e"
      },
      "execution_count": null,
      "outputs": [
        {
          "output_type": "display_data",
          "data": {
            "text/plain": [
              "<Figure size 432x288 with 1 Axes>"
            ],
            "image/png": "[encoded data removed]"
          },
          "metadata": {
            "needs_background": "light"
          }
        }
      ]
    },
    {
      "cell_type": "code",
      "source": [
        "#Step 7\n",
        "#Hvordan kan man fortolke disse mål af central tendens? Hvad fortæller de os?"
      ],
      "metadata": {
        "id": "nGIGoJdqG--6"
      },
      "execution_count": null,
      "outputs": []
    },
    {
      "cell_type": "code",
      "source": [
        "# Din tur, kan du løse opgave 4.12 (Dataset Xr04-12)"
      ],
      "metadata": {
        "id": "zA063Z5qIUyU"
      },
      "execution_count": null,
      "outputs": []
    },
    {
      "cell_type": "markdown",
      "source": [
        "# Variance and Standard Deviation"
      ],
      "metadata": {
        "id": "VtNzzAsjJhSz"
      }
    },
    {
      "cell_type": "markdown",
      "source": [
        "Opgave 4.36 som eksempel på hvordan vi beregner en range, variation og standard deviation "
      ],
      "metadata": {
        "id": "y6t2wFxRrgeL"
      }
    },
    {
      "cell_type": "code",
      "source": [
        "#Step 1\n",
        "#Import libraries we need\n",
        "import pandas as pd\n",
        "import matplotlib.pyplot as plt"
      ],
      "metadata": {
        "id": "B4IRhNvaIzgM"
      },
      "execution_count": 1,
      "outputs": []
    },
    {
      "cell_type": "code",
      "source": [
        "#Step 2\n",
        "#Read data (example 04-36)\n",
        "data = pd.read_excel('https://raw.githubusercontent.com/louisehviid/km2023/main/data/Chapter4/Xr04-36.xlsx')\n",
        "\n",
        "data.head\n"
      ],
      "metadata": {
        "id": "PP3Zdcixr7V_",
        "colab": {
          "base_uri": "https://localhost:8080/"
        },
        "outputId": "c1d69f04-01ca-43a3-d472-bd8276ccbe69"
      },
      "execution_count": 2,
      "outputs": [
        {
          "output_type": "execute_result",
          "data": {
            "text/plain": [
              "<bound method NDFrame.head of     Prozac\n",
              "0   102.05\n",
              "1    99.85\n",
              "2   112.30\n",
              "3    97.15\n",
              "4   111.23\n",
              "..     ...\n",
              "95  102.81\n",
              "96  109.56\n",
              "97  103.35\n",
              "98  113.02\n",
              "99  103.79\n",
              "\n",
              "[100 rows x 1 columns]>"
            ]
          },
          "metadata": {},
          "execution_count": 2
        }
      ]
    },
    {
      "cell_type": "code",
      "source": [
        "#Step 3\n",
        "\n",
        "# find the range of values in Prozac\n",
        "range = data['Prozac'].max() - data['Prozac'].min()\n",
        "print(\"Range: \", range)\n",
        "\n",
        "# Calculating the variance and standard deviation of a column in the dataframe\n",
        "variance = data['Prozac'].var()\n",
        "print(\"Variance: \", variance)\n",
        "\n",
        "standard_deviation = data['Prozac'].std()\n",
        "print(\"Standard Deviation: \", standard_deviation)\n",
        "\n"
      ],
      "metadata": {
        "id": "if4EvWTDsK99",
        "colab": {
          "base_uri": "https://localhost:8080/"
        },
        "outputId": "98d80b61-de83-4748-b26c-c331bd253261"
      },
      "execution_count": 3,
      "outputs": [
        {
          "output_type": "stream",
          "name": "stdout",
          "text": [
            "Range:  25.85000000000001\n",
            "Variance:  29.455223222222216\n",
            "Standard Deviation:  5.427266643737179\n"
          ]
        }
      ]
    },
    {
      "cell_type": "code",
      "source": [
        "#Step 4\n",
        "\n",
        "# plot the data and measures on a histogram\n",
        "plt.hist(data['Prozac'], label='Data')\n",
        "plt.axvline(mean - range/2, color='red', label='Range', linestyle='dashed')\n",
        "plt.axvline(mean - variance/2, color='green', label='Variance', linestyle='dashed')\n",
        "plt.axvline(mean - standard_deviation, color='blue', label='Standard Deviation')\n",
        "plt.axvline(mean + standard_deviation, color='blue')\n",
        "plt.axvline(mean, color='black', label='Mean')\n",
        "plt.legend()\n",
        "plt.show()"
      ],
      "metadata": {
        "colab": {
          "base_uri": "https://localhost:8080/",
          "height": 265
        },
        "id": "CI78EYiivcgG",
        "outputId": "3333c3ce-2456-455b-ad41-7c62a3565e5d"
      },
      "execution_count": 9,
      "outputs": [
        {
          "output_type": "display_data",
          "data": {
            "text/plain": [
              "<Figure size 432x288 with 1 Axes>"
            ],
            "image/png": "[encoded data removed]"
          },
          "metadata": {
            "needs_background": "light"
          }
        }
      ]
    },
    {
      "cell_type": "code",
      "source": [
        "# Plotting the histogram of the column data\n",
        "plt.hist(data['Prozac'], bins=20, edgecolor='black', alpha=0.5)\n",
        "\n",
        "# Adding vertical lines to represent one standard deviation above and below the mean\n",
        "mean = data['Prozac'].mean()\n",
        "plt.axvline(mean - standard_deviation, color='red', linestyle='--', label='-1 SD')\n",
        "plt.axvline(mean + standard_deviation, color='red', linestyle='--', label='+1 SD')\n",
        "\n",
        "# Adding labels to the x-axis and y-axis\n",
        "plt.xlabel('Values')\n",
        "plt.ylabel('Frequency')\n",
        "\n",
        "# Adding a title to the plot\n",
        "plt.title('Histogram with Measures of Spread (Variance and Standard Deviation)')\n",
        "\n",
        "# Displaying the plot\n",
        "plt.legend()\n",
        "plt.show()\n",
        "\n"
      ],
      "metadata": {
        "colab": {
          "base_uri": "https://localhost:8080/",
          "height": 295
        },
        "id": "wVuYYvRGuzB4",
        "outputId": "dc434cfd-6a9c-467f-b372-bd7b4986a0af"
      },
      "execution_count": 6,
      "outputs": [
        {
          "output_type": "display_data",
          "data": {
            "text/plain": [
              "<Figure size 432x288 with 1 Axes>"
            ],
            "image/png": "[encoded data removed]"
          },
          "metadata": {
            "needs_background": "light"
          }
        }
      ]
    },
    {
      "cell_type": "code",
      "source": [
        "#Din tur, kan du løse opgave 4.37 (med dataset Xr04-37)"
      ],
      "metadata": {
        "id": "DolhekhizSPb"
      },
      "execution_count": null,
      "outputs": []
    },
    {
      "cell_type": "code",
      "source": [
        "#Step 1 - 5"
      ],
      "metadata": {
        "id": "vaBRAwhA_J4o"
      },
      "execution_count": null,
      "outputs": []
    },
    {
      "cell_type": "markdown",
      "source": [
        "# Percentiles and Quartiles"
      ],
      "metadata": {
        "id": "xzm13ah7_Sxm"
      }
    },
    {
      "cell_type": "markdown",
      "source": [
        "Opgave 4.67 som eksempel på hvordan vi beregner percentiles og Quartiles.\n"
      ],
      "metadata": {
        "id": "YiMyw0f4AyP0"
      }
    },
    {
      "cell_type": "code",
      "source": [
        "#Step 1\n",
        "import pandas as pd\n",
        "import matplotlib.pyplot as plt\n"
      ],
      "metadata": {
        "id": "Weq5Op7uBXIH"
      },
      "execution_count": 14,
      "outputs": []
    },
    {
      "cell_type": "code",
      "source": [
        "#Step 2\n",
        "# Reading the Excel file into a Pandas dataframe\n",
        "data= pd.read_excel('https://raw.githubusercontent.com/louisehviid/km2023/main/data/Chapter4/Xr04-67.xlsx')\n",
        "\n",
        "data.head"
      ],
      "metadata": {
        "colab": {
          "base_uri": "https://localhost:8080/"
        },
        "id": "jIrfgFYoB9v8",
        "outputId": "c4c3ae71-f7f1-4dfc-88cc-05ab4626dc12"
      },
      "execution_count": 16,
      "outputs": [
        {
          "output_type": "execute_result",
          "data": {
            "text/plain": [
              "<bound method NDFrame.head of      Spend\n",
              "0       50\n",
              "1       25\n",
              "2       50\n",
              "3      110\n",
              "4      370\n",
              "..     ...\n",
              "157    100\n",
              "158     50\n",
              "159    110\n",
              "160     25\n",
              "161    340\n",
              "\n",
              "[162 rows x 1 columns]>"
            ]
          },
          "metadata": {},
          "execution_count": 16
        }
      ]
    },
    {
      "cell_type": "code",
      "source": [
        "#Step 3\n",
        "\n",
        "# Calculating the percentiles and quartiles\n",
        "percentiles = data['Spend'].quantile([0.25, 0.5, 0.75])\n",
        "\n",
        "first_quartile = percentiles[0.25]\n",
        "median = percentiles[0.5]\n",
        "third_quartile = percentiles[0.75]\n",
        "\n",
        "# calculate percentiles of column Spend\n",
        "p1 = data['Spend'].quantile(0.1)\n",
        "p5 = data['Spend'].quantile(0.5)\n",
        "p9 = data['Spend'].quantile(0.9)\n",
        "\n"
      ],
      "metadata": {
        "id": "1Lz4xcOQDTdH"
      },
      "execution_count": 25,
      "outputs": []
    },
    {
      "cell_type": "code",
      "source": [
        "# Step 4\n",
        "#Visualizing these \n",
        "\n",
        "# plot the data and measures on a histogram\n",
        "plt.hist(data['Spend'], bins=20, edgecolor='black', alpha=0.5)\n",
        "\n",
        "plt.axvline(first_quartile, color='red', label='1st Quartile')\n",
        "plt.axvline(median, color='green', label='Median')\n",
        "plt.axvline(third_quartile, color='red', label='3rd Quartile')\n",
        "plt.axvline(p1, color='blue', label='10th Percentile')\n",
        "plt.axvline(p5, color='green', label='50th Percentile')\n",
        "plt.axvline(p9, color='blue', label='90th Percentile')\n",
        "plt.legend()\n",
        "plt.show()"
      ],
      "metadata": {
        "colab": {
          "base_uri": "https://localhost:8080/",
          "height": 265
        },
        "id": "RVwOXzspGlCx",
        "outputId": "c73e060f-feca-47cd-c4f2-207e61b8f025"
      },
      "execution_count": 24,
      "outputs": [
        {
          "output_type": "display_data",
          "data": {
            "text/plain": [
              "<Figure size 432x288 with 1 Axes>"
            ],
            "image/png": "[encoded data removed]"
          },
          "metadata": {
            "needs_background": "light"
          }
        }
      ]
    }
  ]
}