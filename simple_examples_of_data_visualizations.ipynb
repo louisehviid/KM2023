{
  "nbformat": 4,
  "nbformat_minor": 0,
  "metadata": {
    "colab": {
      "provenance": [],
      "authorship_tag": "ABX9TyMsozhs/QqVdXWywL8PCeTi",
      "include_colab_link": true
    },
    "kernelspec": {
      "name": "python3",
      "display_name": "Python 3"
    },
    "language_info": {
      "name": "python"
    }
  },
  "cells": [
    {
      "cell_type": "markdown",
      "metadata": {
        "id": "view-in-github",
        "colab_type": "text"
      },
      "source": [
        "<a href=\"https://colab.research.google.com/github/louisehviid/KM2023/blob/main/simple_examples_of_data_visualizations.ipynb\" target=\"_parent\"><img src=\"https://colab.research.google.com/assets/colab-badge.svg\" alt=\"Open In Colab\"/></a>"
      ]
    },
    {
      "cell_type": "markdown",
      "source": [
        "Creating some examples of data visualizations using Matplotlib, Seaborn.\n",
        "\n",
        "Matplotlib: line plots, bar plots, scatter plots, and histograms.\n",
        "\n",
        "Seaborn: violin plots, box plots, and heatmaps.\n"
      ],
      "metadata": {
        "id": "52jBQB0tbwE-"
      }
    },
    {
      "cell_type": "code",
      "execution_count": 29,
      "metadata": {
        "id": "eX2MfqvlbQus"
      },
      "outputs": [],
      "source": [
        "import pandas as pd\n",
        "import matplotlib.pyplot as plt\n"
      ]
    },
    {
      "cell_type": "code",
      "source": [
        "#Read data (example 02-13)\n",
        "data = pd.read_excel('https://raw.githubusercontent.com/louisehviid/km2023/main/data/Chapter2/Xr02-13.xlsx')\n"
      ],
      "metadata": {
        "id": "L4Bk9MuXdGPj"
      },
      "execution_count": 30,
      "outputs": []
    },
    {
      "cell_type": "code",
      "source": [
        "data.head"
      ],
      "metadata": {
        "colab": {
          "base_uri": "https://localhost:8080/"
        },
        "id": "EgTLNxsqd21f",
        "outputId": "5acf8015-1eab-44a9-9d15-d4a1c5028017"
      },
      "execution_count": 31,
      "outputs": [
        {
          "output_type": "execute_result",
          "data": {
            "text/plain": [
              "<bound method NDFrame.head of                  Country  Oil Reserves (Barrels)\n",
              "0                 Brazil             15310000000\n",
              "1                 Canada            172500000000\n",
              "2                  China             24650000000\n",
              "3                   Iran            157800000000\n",
              "4                   Iraq            144200000000\n",
              "5             Kazakhstan             30000000000\n",
              "6                 Kuwait            104000000000\n",
              "7                  Libya             48360000000\n",
              "8                Nigeria             37070000000\n",
              "9                  Qatar             25240000000\n",
              "10                Russia            103200000000\n",
              "11          Saudi Arabia            268300000000\n",
              "12  United Arab Emirates             97800000000\n",
              "13         United States             36520000000\n",
              "14             Venezuela            298400000000>"
            ]
          },
          "metadata": {},
          "execution_count": 31
        }
      ]
    },
    {
      "cell_type": "code",
      "source": [
        "\n",
        "# Rename the column\n",
        "data.rename(columns={'Oil Reserves (Barrels)': 'Oil_reserves'}, inplace=True)\n",
        "\n",
        "# Verify the change\n",
        "print(data)\n"
      ],
      "metadata": {
        "colab": {
          "base_uri": "https://localhost:8080/"
        },
        "id": "3ZSG5PAWezP1",
        "outputId": "39d1de3d-dc47-49fc-a654-60aeb9491bc1"
      },
      "execution_count": 32,
      "outputs": [
        {
          "output_type": "stream",
          "name": "stdout",
          "text": [
            "                 Country  Oil_reserves\n",
            "0                 Brazil   15310000000\n",
            "1                 Canada  172500000000\n",
            "2                  China   24650000000\n",
            "3                   Iran  157800000000\n",
            "4                   Iraq  144200000000\n",
            "5             Kazakhstan   30000000000\n",
            "6                 Kuwait  104000000000\n",
            "7                  Libya   48360000000\n",
            "8                Nigeria   37070000000\n",
            "9                  Qatar   25240000000\n",
            "10                Russia  103200000000\n",
            "11          Saudi Arabia  268300000000\n",
            "12  United Arab Emirates   97800000000\n",
            "13         United States   36520000000\n",
            "14             Venezuela  298400000000\n"
          ]
        }
      ]
    },
    {
      "cell_type": "code",
      "source": [
        "#Using Matplotlib\n",
        "\n",
        "plt.plot(data['Country'], data['Oil_reserves'])\n",
        "\n",
        "# Rotate the x-axis labels by 90 degrees\n",
        "plt.xticks(data['Country'], rotation=90)\n",
        "\n",
        "# Add labels and title\n",
        "plt.xlabel('Country')\n",
        "plt.ylabel('Oil Reserves (Barrels)')\n",
        "plt.title('Oil reserves per Country')\n",
        "plt.show()"
      ],
      "metadata": {
        "colab": {
          "base_uri": "https://localhost:8080/",
          "height": 392
        },
        "id": "ETJmunkleFEU",
        "outputId": "8838c0b4-8095-481e-cf2c-fd5c2d4ebeaa"
      },
      "execution_count": 33,
      "outputs": [
        {
          "output_type": "display_data",
          "data": {
            "text/plain": [
              "<Figure size 432x288 with 1 Axes>"
            ],
            "image/png": "[encoded data removed]"
          },
          "metadata": {
            "needs_background": "light"
          }
        }
      ]
    },
    {
      "cell_type": "code",
      "source": [
        "import pandas as pd\n",
        "\n",
        "\n",
        "# Create a mapping of countries to continents\n",
        "region_map = {'Canada': 'North America', 'United States': 'North America', \n",
        "                        'Brazil': 'South America','Venezuela': 'South America',\n",
        "                        'Iran': 'Middle East', 'Iraq': 'Middle East', 'Kuwait': 'Middle East', 'Saudi Arabia': 'Middle East', 'United Arab Emirates': 'Middle East', 'Qatar': 'Middle East',\n",
        "                        'China': 'Asia', 'Kazakhstan': 'Asia', \n",
        "                        'Libya': 'Africa', 'Nigeria': 'Africa',\n",
        "                        'Russia': 'Europe'}\n",
        "\n",
        "# create new variable 'regions'\n",
        "data['regions'] = data['Country'].map(region_map)\n",
        "\n",
        "# check the result\n",
        "print(data)\n",
        "\n",
        "data = data.drop(columns=['regions'])\n",
        "\n",
        "\n",
        "\n"
      ],
      "metadata": {
        "colab": {
          "base_uri": "https://localhost:8080/",
          "height": 806
        },
        "id": "0Lv3XSsyK3P2",
        "outputId": "f6f274b8-6ca6-4ac9-dcfb-2ef5bae11284"
      },
      "execution_count": 47,
      "outputs": [
        {
          "output_type": "stream",
          "name": "stdout",
          "text": [
            "                 Country  Oil_reserves        Regions        regions\n",
            "0                 Brazil   15310000000  South America  South America\n",
            "1                 Canada  172500000000  North America  North America\n",
            "2                  China   24650000000           Asia           Asia\n",
            "3                   Iran  157800000000    Middle East    Middle East\n",
            "4                   Iraq  144200000000    Middle East    Middle East\n",
            "5             Kazakhstan   30000000000           Asia           Asia\n",
            "6                 Kuwait  104000000000    Middle East    Middle East\n",
            "7                  Libya   48360000000         Africa         Africa\n",
            "8                Nigeria   37070000000         Africa         Africa\n",
            "9                  Qatar   25240000000    Middle East    Middle East\n",
            "10                Russia  103200000000         Europe         Europe\n",
            "11          Saudi Arabia  268300000000    Middle East    Middle East\n",
            "12  United Arab Emirates   97800000000    Middle East    Middle East\n",
            "13         United States   36520000000  North America  North America\n",
            "14             Venezuela  298400000000  South America  South America\n"
          ]
        },
        {
          "output_type": "execute_result",
          "data": {
            "text/plain": [
              "                 Country  Oil_reserves        Regions\n",
              "0                 Brazil   15310000000  South America\n",
              "1                 Canada  172500000000  North America\n",
              "2                  China   24650000000           Asia\n",
              "3                   Iran  157800000000    Middle East\n",
              "4                   Iraq  144200000000    Middle East\n",
              "5             Kazakhstan   30000000000           Asia\n",
              "6                 Kuwait  104000000000    Middle East\n",
              "7                  Libya   48360000000         Africa\n",
              "8                Nigeria   37070000000         Africa\n",
              "9                  Qatar   25240000000    Middle East\n",
              "10                Russia  103200000000         Europe\n",
              "11          Saudi Arabia  268300000000    Middle East\n",
              "12  United Arab Emirates   97800000000    Middle East\n",
              "13         United States   36520000000  North America\n",
              "14             Venezuela  298400000000  South America"
            ],
            "text/html": [
              "\n",
              "  <div id=\"df-13137921-793a-41c4-8624-d143ac9d9eb5\">\n",
              "    <div class=\"colab-df-container\">\n",
              "      <div>\n",
              "<style scoped>\n",
              "    .dataframe tbody tr th:only-of-type {\n",
              "        vertical-align: middle;\n",
              "    }\n",
              "\n",
              "    .dataframe tbody tr th {\n",
              "        vertical-align: top;\n",
              "    }\n",
              "\n",
              "    .dataframe thead th {\n",
              "        text-align: right;\n",
              "    }\n",
              "</style>\n",
              "<table border=\"1\" class=\"dataframe\">\n",
              "  <thead>\n",
              "    <tr style=\"text-align: right;\">\n",
              "      <th></th>\n",
              "      <th>Country</th>\n",
              "      <th>Oil_reserves</th>\n",
              "      <th>Regions</th>\n",
              "    </tr>\n",
              "  </thead>\n",
              "  <tbody>\n",
              "    <tr>\n",
              "      <th>0</th>\n",
              "      <td>Brazil</td>\n",
              "      <td>15310000000</td>\n",
              "      <td>South America</td>\n",
              "    </tr>\n",
              "    <tr>\n",
              "      <th>1</th>\n",
              "      <td>Canada</td>\n",
              "      <td>172500000000</td>\n",
              "      <td>North America</td>\n",
              "    </tr>\n",
              "    <tr>\n",
              "      <th>2</th>\n",
              "      <td>China</td>\n",
              "      <td>24650000000</td>\n",
              "      <td>Asia</td>\n",
              "    </tr>\n",
              "    <tr>\n",
              "      <th>3</th>\n",
              "      <td>Iran</td>\n",
              "      <td>157800000000</td>\n",
              "      <td>Middle East</td>\n",
              "    </tr>\n",
              "    <tr>\n",
              "      <th>4</th>\n",
              "      <td>Iraq</td>\n",
              "      <td>144200000000</td>\n",
              "      <td>Middle East</td>\n",
              "    </tr>\n",
              "    <tr>\n",
              "      <th>5</th>\n",
              "      <td>Kazakhstan</td>\n",
              "      <td>30000000000</td>\n",
              "      <td>Asia</td>\n",
              "    </tr>\n",
              "    <tr>\n",
              "      <th>6</th>\n",
              "      <td>Kuwait</td>\n",
              "      <td>104000000000</td>\n",
              "      <td>Middle East</td>\n",
              "    </tr>\n",
              "    <tr>\n",
              "      <th>7</th>\n",
              "      <td>Libya</td>\n",
              "      <td>48360000000</td>\n",
              "      <td>Africa</td>\n",
              "    </tr>\n",
              "    <tr>\n",
              "      <th>8</th>\n",
              "      <td>Nigeria</td>\n",
              "      <td>37070000000</td>\n",
              "      <td>Africa</td>\n",
              "    </tr>\n",
              "    <tr>\n",
              "      <th>9</th>\n",
              "      <td>Qatar</td>\n",
              "      <td>25240000000</td>\n",
              "      <td>Middle East</td>\n",
              "    </tr>\n",
              "    <tr>\n",
              "      <th>10</th>\n",
              "      <td>Russia</td>\n",
              "      <td>103200000000</td>\n",
              "      <td>Europe</td>\n",
              "    </tr>\n",
              "    <tr>\n",
              "      <th>11</th>\n",
              "      <td>Saudi Arabia</td>\n",
              "      <td>268300000000</td>\n",
              "      <td>Middle East</td>\n",
              "    </tr>\n",
              "    <tr>\n",
              "      <th>12</th>\n",
              "      <td>United Arab Emirates</td>\n",
              "      <td>97800000000</td>\n",
              "      <td>Middle East</td>\n",
              "    </tr>\n",
              "    <tr>\n",
              "      <th>13</th>\n",
              "      <td>United States</td>\n",
              "      <td>36520000000</td>\n",
              "      <td>North America</td>\n",
              "    </tr>\n",
              "    <tr>\n",
              "      <th>14</th>\n",
              "      <td>Venezuela</td>\n",
              "      <td>298400000000</td>\n",
              "      <td>South America</td>\n",
              "    </tr>\n",
              "  </tbody>\n",
              "</table>\n",
              "</div>\n",
              "      <button class=\"colab-df-convert\" onclick=\"convertToInteractive('df-13137921-793a-41c4-8624-d143ac9d9eb5')\"\n",
              "              title=\"Convert this dataframe to an interactive table.\"\n",
              "              style=\"display:none;\">\n",
              "        \n",
              "  <svg xmlns=\"http://www.w3.org/2000/svg\" height=\"24px\"viewBox=\"0 0 24 24\"\n",
              "       width=\"24px\">\n",
              "    <path d=\"M0 0h24v24H0V0z\" fill=\"none\"/>\n",
              "    <path d=\"M18.56 5.44l.94 2.06.94-2.06 2.06-.94-2.06-.94-.94-2.06-.94 2.06-2.06.94zm-11 1L8.5 8.5l.94-2.06 2.06-.94-2.06-.94L8.5 2.5l-.94 2.06-2.06.94zm10 10l.94 2.06.94-2.06 2.06-.94-2.06-.94-.94-2.06-.94 2.06-2.06.94z\"/><path d=\"M17.41 7.96l-1.37-1.37c-.4-.4-.92-.59-1.43-.59-.52 0-1.04.2-1.43.59L10.3 9.45l-7.72 7.72c-.78.78-.78 2.05 0 2.83L4 21.41c.39.39.9.59 1.41.59.51 0 1.02-.2 1.41-.59l7.78-7.78 2.81-2.81c.8-.78.8-2.07 0-2.86zM5.41 20L4 18.59l7.72-7.72 1.47 1.35L5.41 20z\"/>\n",
              "  </svg>\n",
              "      </button>\n",
              "      \n",
              "  <style>\n",
              "    .colab-df-container {\n",
              "      display:flex;\n",
              "      flex-wrap:wrap;\n",
              "      gap: 12px;\n",
              "    }\n",
              "\n",
              "    .colab-df-convert {\n",
              "      background-color: #E8F0FE;\n",
              "      border: none;\n",
              "      border-radius: 50%;\n",
              "      cursor: pointer;\n",
              "      display: none;\n",
              "      fill: #1967D2;\n",
              "      height: 32px;\n",
              "      padding: 0 0 0 0;\n",
              "      width: 32px;\n",
              "    }\n",
              "\n",
              "    .colab-df-convert:hover {\n",
              "      background-color: #E2EBFA;\n",
              "      box-shadow: 0px 1px 2px rgba(60, 64, 67, 0.3), 0px 1px 3px 1px rgba(60, 64, 67, 0.15);\n",
              "      fill: #174EA6;\n",
              "    }\n",
              "\n",
              "    [theme=dark] .colab-df-convert {\n",
              "      background-color: #3B4455;\n",
              "      fill: #D2E3FC;\n",
              "    }\n",
              "\n",
              "    [theme=dark] .colab-df-convert:hover {\n",
              "      background-color: #434B5C;\n",
              "      box-shadow: 0px 1px 3px 1px rgba(0, 0, 0, 0.15);\n",
              "      filter: drop-shadow(0px 1px 2px rgba(0, 0, 0, 0.3));\n",
              "      fill: #FFFFFF;\n",
              "    }\n",
              "  </style>\n",
              "\n",
              "      <script>\n",
              "        const buttonEl =\n",
              "          document.querySelector('#df-13137921-793a-41c4-8624-d143ac9d9eb5 button.colab-df-convert');\n",
              "        buttonEl.style.display =\n",
              "          google.colab.kernel.accessAllowed ? 'block' : 'none';\n",
              "\n",
              "        async function convertToInteractive(key) {\n",
              "          const element = document.querySelector('#df-13137921-793a-41c4-8624-d143ac9d9eb5');\n",
              "          const dataTable =\n",
              "            await google.colab.kernel.invokeFunction('convertToInteractive',\n",
              "                                                     [key], {});\n",
              "          if (!dataTable) return;\n",
              "\n",
              "          const docLinkHtml = 'Like what you see? Visit the ' +\n",
              "            '<a target=\"_blank\" href=https://colab.research.google.com/notebooks/data_table.ipynb>data table notebook</a>'\n",
              "            + ' to learn more about interactive tables.';\n",
              "          element.innerHTML = '';\n",
              "          dataTable['output_type'] = 'display_data';\n",
              "          await google.colab.output.renderOutput(dataTable, element);\n",
              "          const docLink = document.createElement('div');\n",
              "          docLink.innerHTML = docLinkHtml;\n",
              "          element.appendChild(docLink);\n",
              "        }\n",
              "      </script>\n",
              "    </div>\n",
              "  </div>\n",
              "  "
            ]
          },
          "metadata": {},
          "execution_count": 47
        }
      ]
    },
    {
      "cell_type": "code",
      "source": [
        "#Using seaborn\n",
        "import seaborn as sns\n",
        "\n",
        "plt.ylim(0, max(data['Oil_reserves'])+5)\n",
        "plot= sns.violinplot(x='Regions', y='Oil_reserves', hue='Country', data=data, inner='box')\n",
        "\n",
        "\n",
        "# Rotate the x-axis labels by 90 degrees\n",
        "for tick in plot.get_xticklabels():\n",
        "    tick.set_rotation(90)\n",
        "\n",
        "# Move the legend to the right of the plot\n",
        "plot.legend(loc='center left', bbox_to_anchor=(1.05, 0.5), borderaxespad=0)\n",
        "\n",
        "plt.show()"
      ],
      "metadata": {
        "colab": {
          "base_uri": "https://localhost:8080/",
          "height": 354
        },
        "id": "5EOuNoyEjZkK",
        "outputId": "285b49ee-0419-40bb-bdcf-479be6a72937"
      },
      "execution_count": 58,
      "outputs": [
        {
          "output_type": "display_data",
          "data": {
            "text/plain": [
              "<Figure size 432x288 with 1 Axes>"
            ],
            "image/png": "[encoded data removed]"
          },
          "metadata": {
            "needs_background": "light"
          }
        }
      ]
    }
  ]
}