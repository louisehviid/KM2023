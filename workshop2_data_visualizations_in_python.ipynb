{
  "nbformat": 4,
  "nbformat_minor": 0,
  "metadata": {
    "colab": {
      "provenance": [],
      "authorship_tag": "ABX9TyNo1qNnlcUkw16QMtunlwCR",
      "include_colab_link": true
    },
    "kernelspec": {
      "name": "python3",
      "display_name": "Python 3"
    },
    "language_info": {
      "name": "python"
    }
  },
  "cells": [
    {
      "cell_type": "markdown",
      "metadata": {
        "id": "view-in-github",
        "colab_type": "text"
      },
      "source": [
        "<a href=\"https://colab.research.google.com/github/louisehviid/KM2023/blob/main/workshop2_data_visualizations_in_python.ipynb\" target=\"_parent\"><img src=\"https://colab.research.google.com/assets/colab-badge.svg\" alt=\"Open In Colab\"/></a>"
      ]
    },
    {
      "cell_type": "markdown",
      "source": [
        "# **Introduktion til workshop 2**"
      ],
      "metadata": {
        "id": "uKZFhSEnmx1_"
      }
    },
    {
      "cell_type": "markdown",
      "source": [
        "I denne colaboratory fil, viser vi nogle eksempler af hvordan I kan løse forskellige opgave typer ved brug af python. I kan bruge disse eksempler til at hjælpe jer på vej til at løse jeres egne opgaver.\n",
        "\n",
        "\n",
        "---\n",
        "\n",
        "Vi vil bruge pandas til at indlæse vores dataset og organisere dem, og vi vil bruge matplotlib  til at visualisere vores data, for at løse opgaverne til workshop 2 (kapitel 2 og 3).\n",
        "\n",
        "\n"
      ],
      "metadata": {
        "id": "52jBQB0tbwE-"
      }
    },
    {
      "cell_type": "markdown",
      "source": [
        "# Cirkel diagram"
      ],
      "metadata": {
        "id": "scEXV0404Jkw"
      }
    },
    {
      "cell_type": "markdown",
      "source": [
        "Opgave 2.13 som eksempel på hvordan man laver et cirkel disgram til at visualisere data."
      ],
      "metadata": {
        "id": "HEBgvH-N7LIL"
      }
    },
    {
      "cell_type": "code",
      "execution_count": null,
      "metadata": {
        "id": "eX2MfqvlbQus"
      },
      "outputs": [],
      "source": [
        "#Step 1\n",
        "#Import libraries we need\n",
        "import pandas as pd\n",
        "import matplotlib.pyplot as plt\n"
      ]
    },
    {
      "cell_type": "code",
      "source": [
        "#Step 2\n",
        "#Read data (example 02-13)\n",
        "data = pd.read_excel('https://raw.githubusercontent.com/louisehviid/km2023/main/data/Chapter2/Xr02-13.xlsx')\n"
      ],
      "metadata": {
        "id": "L4Bk9MuXdGPj"
      },
      "execution_count": null,
      "outputs": []
    },
    {
      "cell_type": "code",
      "source": [
        "data.head"
      ],
      "metadata": {
        "colab": {
          "base_uri": "https://localhost:8080/"
        },
        "id": "EgTLNxsqd21f",
        "outputId": "ab000dd9-0524-49b2-e937-061d5753c25d"
      },
      "execution_count": null,
      "outputs": [
        {
          "output_type": "execute_result",
          "data": {
            "text/plain": [
              "<bound method NDFrame.head of                  Country  Oil Reserves (Barrels)\n",
              "0                 Brazil             15310000000\n",
              "1                 Canada            172500000000\n",
              "2                  China             24650000000\n",
              "3                   Iran            157800000000\n",
              "4                   Iraq            144200000000\n",
              "5             Kazakhstan             30000000000\n",
              "6                 Kuwait            104000000000\n",
              "7                  Libya             48360000000\n",
              "8                Nigeria             37070000000\n",
              "9                  Qatar             25240000000\n",
              "10                Russia            103200000000\n",
              "11          Saudi Arabia            268300000000\n",
              "12  United Arab Emirates             97800000000\n",
              "13         United States             36520000000\n",
              "14             Venezuela            298400000000>"
            ]
          },
          "metadata": {},
          "execution_count": 48
        }
      ]
    },
    {
      "cell_type": "code",
      "source": [
        "# Step 3\n",
        "#Giv variablerne nogle navne som python kan arbejde med\n",
        "\n",
        "#Rename the column\n",
        "data.rename(columns={'Oil Reserves (Barrels)': 'Oil_reserves'}, inplace=True)\n",
        "\n",
        "# Verify the change\n",
        "print(data)\n"
      ],
      "metadata": {
        "colab": {
          "base_uri": "https://localhost:8080/"
        },
        "id": "3ZSG5PAWezP1",
        "outputId": "cbab0af4-2eae-4cc0-d193-266aa36c3ec9"
      },
      "execution_count": null,
      "outputs": [
        {
          "output_type": "stream",
          "name": "stdout",
          "text": [
            "                 Country  Oil_reserves\n",
            "0                 Brazil   15310000000\n",
            "1                 Canada  172500000000\n",
            "2                  China   24650000000\n",
            "3                   Iran  157800000000\n",
            "4                   Iraq  144200000000\n",
            "5             Kazakhstan   30000000000\n",
            "6                 Kuwait  104000000000\n",
            "7                  Libya   48360000000\n",
            "8                Nigeria   37070000000\n",
            "9                  Qatar   25240000000\n",
            "10                Russia  103200000000\n",
            "11          Saudi Arabia  268300000000\n",
            "12  United Arab Emirates   97800000000\n",
            "13         United States   36520000000\n",
            "14             Venezuela  298400000000\n"
          ]
        }
      ]
    },
    {
      "cell_type": "code",
      "source": [
        "# Step 4\n",
        "# Beregn procent fordelingen til cirkel diagramet\n",
        "#Making a piechart\n",
        "\n",
        "# Calculate total and create a list of percentages\n",
        "total = data['Oil_reserves'].sum()\n",
        "percentages = 100 * data['Oil_reserves'] / total\n",
        "\n",
        "\n"
      ],
      "metadata": {
        "id": "u5Vls8aRvR9o"
      },
      "execution_count": null,
      "outputs": []
    },
    {
      "cell_type": "code",
      "source": [
        "#Step 5\n",
        "#lav cirkel diagrammet\n",
        "\n",
        "# Plot the pie chart\n",
        "plt.pie(percentages, labels=data['Country'], autopct='%1.1f%%')\n",
        "plt.axis('equal')\n",
        "plt.show()\n",
        "\n"
      ],
      "metadata": {
        "colab": {
          "base_uri": "https://localhost:8080/",
          "height": 255
        },
        "id": "SPNZ_o2T5qMU",
        "outputId": "1e1a0b9a-df46-4e04-807e-24372fa791c9"
      },
      "execution_count": null,
      "outputs": [
        {
          "output_type": "display_data",
          "data": {
            "text/plain": [
              "<Figure size 432x288 with 1 Axes>"
            ],
            "image/png": "[encoded data removed]"
          },
          "metadata": {}
        }
      ]
    },
    {
      "cell_type": "code",
      "source": [
        "#Step 6\n",
        "#Fortolk cirkel diagrammet, hvad kan du sige om dataen?"
      ],
      "metadata": {
        "id": "XcH-GQHO58SE"
      },
      "execution_count": null,
      "outputs": []
    },
    {
      "cell_type": "code",
      "source": [
        "#Nu er det din tur, kan du lave den samme øvelse med opgave 2.14 og 2.15 (med dataset XR02-13 og XR02-15)?"
      ],
      "metadata": {
        "id": "2yd42ALX6I5P"
      },
      "execution_count": null,
      "outputs": []
    },
    {
      "cell_type": "code",
      "source": [
        "#Step 1"
      ],
      "metadata": {
        "id": "-eP7OH6c6Z7u"
      },
      "execution_count": null,
      "outputs": []
    },
    {
      "cell_type": "code",
      "source": [
        "#Step 2"
      ],
      "metadata": {
        "id": "S5DhxWC46cRF"
      },
      "execution_count": null,
      "outputs": []
    },
    {
      "cell_type": "code",
      "source": [
        "#Step 3"
      ],
      "metadata": {
        "id": "XsLfx7Mm6d6Y"
      },
      "execution_count": null,
      "outputs": []
    },
    {
      "cell_type": "code",
      "source": [
        "#Step 4"
      ],
      "metadata": {
        "id": "oGi9pk9B6fVA"
      },
      "execution_count": null,
      "outputs": []
    },
    {
      "cell_type": "code",
      "source": [
        "#Step 5"
      ],
      "metadata": {
        "id": "xNDksMjK6gmx"
      },
      "execution_count": null,
      "outputs": []
    },
    {
      "cell_type": "markdown",
      "source": [
        "# Søjle Diagram"
      ],
      "metadata": {
        "id": "sUANej_R4jfu"
      }
    },
    {
      "cell_type": "markdown",
      "source": [
        "Opgave 2.13 som eksempel på hvordan man laver en bar graf til at visualisere data."
      ],
      "metadata": {
        "id": "tgnoh-Bb7mqt"
      }
    },
    {
      "cell_type": "code",
      "source": [
        "#Step 1\n",
        "\n",
        "import pandas as pd\n",
        "import matplotlib.pyplot as plt"
      ],
      "metadata": {
        "id": "K9obbGEd77rs"
      },
      "execution_count": null,
      "outputs": []
    },
    {
      "cell_type": "code",
      "source": [
        "#Step 2\n",
        "# Read the data from an Excel file\n",
        "data = pd.read_excel('https://raw.githubusercontent.com/louisehviid/km2023/main/data/Chapter2/Xr02-13.xlsx')\n"
      ],
      "metadata": {
        "id": "B8v5xa0n8BKi"
      },
      "execution_count": null,
      "outputs": []
    },
    {
      "cell_type": "code",
      "source": [
        "#Step 3\n",
        "#Take a look at your data\n",
        "\n",
        "data.head"
      ],
      "metadata": {
        "colab": {
          "base_uri": "https://localhost:8080/"
        },
        "id": "DscILvIb8Nbd",
        "outputId": "2978fa6b-dbc7-4ae8-c88c-95a20ecbee12"
      },
      "execution_count": null,
      "outputs": [
        {
          "output_type": "execute_result",
          "data": {
            "text/plain": [
              "<bound method NDFrame.head of                  Country  Oil Reserves (Barrels)\n",
              "0                 Brazil             15310000000\n",
              "1                 Canada            172500000000\n",
              "2                  China             24650000000\n",
              "3                   Iran            157800000000\n",
              "4                   Iraq            144200000000\n",
              "5             Kazakhstan             30000000000\n",
              "6                 Kuwait            104000000000\n",
              "7                  Libya             48360000000\n",
              "8                Nigeria             37070000000\n",
              "9                  Qatar             25240000000\n",
              "10                Russia            103200000000\n",
              "11          Saudi Arabia            268300000000\n",
              "12  United Arab Emirates             97800000000\n",
              "13         United States             36520000000\n",
              "14             Venezuela            298400000000>"
            ]
          },
          "metadata": {},
          "execution_count": 56
        }
      ]
    },
    {
      "cell_type": "code",
      "source": [
        "# Step 3\n",
        "#Giv variablerne nogle navne som python kan arbejde med\n",
        "\n",
        "#Rename the column\n",
        "data.rename(columns={'Oil Reserves (Barrels)': 'Oil_reserves'}, inplace=True)\n",
        "\n",
        "# Verify the change\n",
        "print(data)"
      ],
      "metadata": {
        "colab": {
          "base_uri": "https://localhost:8080/"
        },
        "id": "O7MqVrtw9f8S",
        "outputId": "ee88fb4b-b9d4-40b2-ee15-1d1de7cbf4f9"
      },
      "execution_count": null,
      "outputs": [
        {
          "output_type": "stream",
          "name": "stdout",
          "text": [
            "                 Country  Oil_reserves\n",
            "0                 Brazil   15310000000\n",
            "1                 Canada  172500000000\n",
            "2                  China   24650000000\n",
            "3                   Iran  157800000000\n",
            "4                   Iraq  144200000000\n",
            "5             Kazakhstan   30000000000\n",
            "6                 Kuwait  104000000000\n",
            "7                  Libya   48360000000\n",
            "8                Nigeria   37070000000\n",
            "9                  Qatar   25240000000\n",
            "10                Russia  103200000000\n",
            "11          Saudi Arabia  268300000000\n",
            "12  United Arab Emirates   97800000000\n",
            "13         United States   36520000000\n",
            "14             Venezuela  298400000000\n"
          ]
        }
      ]
    },
    {
      "cell_type": "code",
      "source": [
        "#Step 4\n",
        "\n",
        "#Making a bar chart\n",
        "\n",
        "## Select the columns to use as x and y data\n",
        "x = data[\"Country\"]\n",
        "y = data[\"Oil_reserves\"]\n",
        "\n",
        "# Plot the bar chart\n",
        "plt.bar(x, y)\n",
        "\n",
        "# Rotate x-axis labels by 45 degrees\n",
        "plt.xticks(rotation=90)\n",
        "\n",
        "plt.xlabel('Country')\n",
        "plt.ylabel('Oil Reserves')\n",
        "plt.title(\"Bar Chart of Oil Reserves (Barrels) per Country\")\n",
        "\n",
        "plt.show()\n"
      ],
      "metadata": {
        "id": "x8VaQGhmxXJx",
        "outputId": "16dff968-84c6-4a0e-ad60-408193b2489c",
        "colab": {
          "base_uri": "https://localhost:8080/",
          "height": 392
        }
      },
      "execution_count": null,
      "outputs": [
        {
          "output_type": "display_data",
          "data": {
            "text/plain": [
              "<Figure size 432x288 with 1 Axes>"
            ],
            "image/png": "[encoded data removed]"
          },
          "metadata": {
            "needs_background": "light"
          }
        }
      ]
    },
    {
      "cell_type": "code",
      "source": [
        "#Step 5\n",
        "#Fortolk bar grafen, hvad fortæller den os?"
      ],
      "metadata": {
        "id": "0LaxZRHp95_K"
      },
      "execution_count": null,
      "outputs": []
    },
    {
      "cell_type": "code",
      "source": [
        "# Kan du lave den samme øvelse med opgave 2.17 (med dataset XR02-17)?"
      ],
      "metadata": {
        "id": "8L9UnJQc-izv"
      },
      "execution_count": null,
      "outputs": []
    },
    {
      "cell_type": "code",
      "source": [
        "#Step 1"
      ],
      "metadata": {
        "id": "ik74Z3CV-sW9"
      },
      "execution_count": null,
      "outputs": []
    },
    {
      "cell_type": "code",
      "source": [
        "#Step 2"
      ],
      "metadata": {
        "id": "CZCF9eu7-sjU"
      },
      "execution_count": null,
      "outputs": []
    },
    {
      "cell_type": "code",
      "source": [
        "#Step 3"
      ],
      "metadata": {
        "id": "mNN3qNUV-su3"
      },
      "execution_count": null,
      "outputs": []
    },
    {
      "cell_type": "code",
      "source": [
        "#Step 4"
      ],
      "metadata": {
        "id": "xxOwXkOa-s4d"
      },
      "execution_count": null,
      "outputs": []
    },
    {
      "cell_type": "code",
      "source": [
        "#Step 5"
      ],
      "metadata": {
        "id": "7_qg3L6d-tA8"
      },
      "execution_count": null,
      "outputs": []
    },
    {
      "cell_type": "markdown",
      "source": [
        "# Histogram\n"
      ],
      "metadata": {
        "id": "FQOOptVWx2vl"
      }
    },
    {
      "cell_type": "markdown",
      "source": [
        "Opgave 3.12 som eksempel på hvordan man laver en histogram til at visualisere data."
      ],
      "metadata": {
        "id": "m0WAPgME_a3-"
      }
    },
    {
      "cell_type": "code",
      "source": [
        "#Step 1 \n",
        "# import pandas to read dataset\n",
        "\n",
        "import pandas as pd\n",
        "\n",
        "#Read data (exercise 03-12)\n",
        "data = pd.read_excel('https://raw.githubusercontent.com/louisehviid/km2023/main/data/Chapter3/Xr03-12.xlsx')\n"
      ],
      "metadata": {
        "id": "UD_HdR4toAg_"
      },
      "execution_count": null,
      "outputs": []
    },
    {
      "cell_type": "code",
      "source": [
        "#Step 2\n",
        "#Check dit dataset og se hvad variabler du har at arbejde med\n",
        "\n",
        "data.head\n"
      ],
      "metadata": {
        "colab": {
          "base_uri": "https://localhost:8080/"
        },
        "id": "1DwCLoYoud6_",
        "outputId": "294e1836-f594-4c84-963a-38937beeca2a"
      },
      "execution_count": null,
      "outputs": [
        {
          "output_type": "execute_result",
          "data": {
            "text/plain": [
              "<bound method NDFrame.head of      Days\n",
              "0       7\n",
              "1       5\n",
              "2       3\n",
              "3       6\n",
              "4       5\n",
              "..    ...\n",
              "195     4\n",
              "196     4\n",
              "197     9\n",
              "198     5\n",
              "199     4\n",
              "\n",
              "[200 rows x 1 columns]>"
            ]
          },
          "metadata": {},
          "execution_count": 23
        }
      ]
    },
    {
      "cell_type": "code",
      "source": [
        "#Step 3\n",
        "#Brug dit dataset til at lave et histogram (exercise 03-12)\n",
        "\n",
        "#import matplotlib\n",
        "\n",
        "import pandas as pd\n",
        "import matplotlib.pyplot as plt\n",
        "\n",
        "# Select a column to create the histogram\n",
        "data = data[\"Days\"]\n",
        "\n",
        "# Plot the histogram\n",
        "plt.hist(data, bins=20, edgecolor='black')\n",
        "\n",
        "# Add labels and title\n",
        "plt.xlabel(\"Days\")\n",
        "plt.ylabel(\"Frequency\")\n",
        "plt.title(\"Histogram of Days\")\n",
        "\n",
        "# Show the plot\n",
        "plt.show()\n"
      ],
      "metadata": {
        "colab": {
          "base_uri": "https://localhost:8080/",
          "height": 295
        },
        "id": "5RFAuP2ZqdwZ",
        "outputId": "0f697c98-89fe-4bc0-f984-98342c69ec66"
      },
      "execution_count": null,
      "outputs": [
        {
          "output_type": "display_data",
          "data": {
            "text/plain": [
              "<Figure size 432x288 with 1 Axes>"
            ],
            "image/png": "[encoded data removed]"
          },
          "metadata": {
            "needs_background": "light"
          }
        }
      ]
    },
    {
      "cell_type": "code",
      "source": [
        "#Step 4\n",
        "#fortolk dit histogram, hvad fortæller det om din data?"
      ],
      "metadata": {
        "id": "NcLC8TarxX94"
      },
      "execution_count": null,
      "outputs": []
    },
    {
      "cell_type": "code",
      "source": [
        "# Kan du lave den samme øvelse med opgave 3.13 og 3.20 (med dataset XR03-13 og XR03-20)?\n",
        "\n"
      ],
      "metadata": {
        "id": "IgDHMKuAv3Xv"
      },
      "execution_count": null,
      "outputs": []
    },
    {
      "cell_type": "code",
      "source": [
        "#Step 1"
      ],
      "metadata": {
        "id": "D7L07Z1PxoQE"
      },
      "execution_count": null,
      "outputs": []
    },
    {
      "cell_type": "code",
      "source": [
        "#Step 2"
      ],
      "metadata": {
        "id": "7--D2Na-xpYI"
      },
      "execution_count": null,
      "outputs": []
    },
    {
      "cell_type": "code",
      "source": [
        "#Step 3"
      ],
      "metadata": {
        "id": "g2iaUPnKxqtA"
      },
      "execution_count": null,
      "outputs": []
    },
    {
      "cell_type": "code",
      "source": [
        "#Step 4"
      ],
      "metadata": {
        "id": "YfqKjW0JxsVZ"
      },
      "execution_count": null,
      "outputs": []
    },
    {
      "cell_type": "markdown",
      "source": [
        "# Curvediagram"
      ],
      "metadata": {
        "id": "1ZreKembyEt5"
      }
    },
    {
      "cell_type": "markdown",
      "source": [
        "Opgave 3.31 som eksempel på hvordan man laver en line graf til at visualisere data."
      ],
      "metadata": {
        "id": "sim5el9P_oX2"
      }
    },
    {
      "cell_type": "code",
      "source": [
        "#Step 1 \n",
        "# import pandas to read dataset\n",
        "\n",
        "import pandas as pd\n",
        "\n",
        "#Read data (exercise 03-12)\n",
        "data = pd.read_excel('https://raw.githubusercontent.com/louisehviid/km2023/main/data/Chapter3/Xr03-31.xlsx')\n"
      ],
      "metadata": {
        "id": "7j6cJWMwyOZx"
      },
      "execution_count": null,
      "outputs": []
    },
    {
      "cell_type": "code",
      "source": [
        "#Step 2\n",
        "#Check dit dataset og se hvad variabler du har at arbejde med\n",
        "\n",
        "data.head"
      ],
      "metadata": {
        "colab": {
          "base_uri": "https://localhost:8080/"
        },
        "id": "EqTTTTexyabJ",
        "outputId": "59d30acd-bb94-4f6a-d8b4-a940d405ccd0"
      },
      "execution_count": null,
      "outputs": [
        {
          "output_type": "execute_result",
          "data": {
            "text/plain": [
              "<bound method NDFrame.head of     Year  Health Care Total ($billions)\n",
              "0   1950                           2.71\n",
              "1   1951                           2.94\n",
              "2   1952                           3.20\n",
              "3   1953                           3.25\n",
              "4   1954                           3.37\n",
              "..   ...                            ...\n",
              "61  2011                        1182.94\n",
              "62  2012                        1176.83\n",
              "63  2013                        1236.95\n",
              "64  2014                        1300.26\n",
              "65  2015                        1390.68\n",
              "\n",
              "[66 rows x 2 columns]>"
            ]
          },
          "metadata": {},
          "execution_count": 64
        }
      ]
    },
    {
      "cell_type": "code",
      "source": [
        "#Step 3\n",
        "#Rename variables, so python can use them\n",
        "\n",
        "# Rename the column\n",
        "data.rename(columns={'Health Care Total ($billions)': 'Health_care'}, inplace=True)\n",
        "\n",
        "# Verify the change\n",
        "print(data)"
      ],
      "metadata": {
        "colab": {
          "base_uri": "https://localhost:8080/"
        },
        "id": "swS6juFYylCy",
        "outputId": "62d3fe46-d86a-4f07-8bbe-ecd2148bc4ef"
      },
      "execution_count": null,
      "outputs": [
        {
          "output_type": "stream",
          "name": "stdout",
          "text": [
            "    Year  Health_care\n",
            "0   1950         2.71\n",
            "1   1951         2.94\n",
            "2   1952         3.20\n",
            "3   1953         3.25\n",
            "4   1954         3.37\n",
            "..   ...          ...\n",
            "61  2011      1182.94\n",
            "62  2012      1176.83\n",
            "63  2013      1236.95\n",
            "64  2014      1300.26\n",
            "65  2015      1390.68\n",
            "\n",
            "[66 rows x 2 columns]\n"
          ]
        }
      ]
    },
    {
      "cell_type": "code",
      "source": [
        "#Step 4\n",
        "#Using Matplotlib to create a line graph\n",
        "import matplotlib.pyplot as plt\n",
        "\n",
        "## Select the columns to use as x and y data\n",
        "x = data[\"Year\"]\n",
        "y = data[\"Health_care\"]\n",
        "\n",
        "# Plot the line graph\n",
        "plt.plot(x, y)\n",
        "\n",
        "# Add labels and title\n",
        "plt.xlabel('Year')\n",
        "plt.ylabel('Health Care Cost')\n",
        "plt.title('Total Healthcare Cost per Year')\n",
        "plt.show()"
      ],
      "metadata": {
        "colab": {
          "base_uri": "https://localhost:8080/",
          "height": 295
        },
        "id": "ETJmunkleFEU",
        "outputId": "47cf85b6-8bed-49f2-ef1c-8494326d89f8"
      },
      "execution_count": null,
      "outputs": [
        {
          "output_type": "display_data",
          "data": {
            "text/plain": [
              "<Figure size 432x288 with 1 Axes>"
            ],
            "image/png": "[encoded data removed]"
          },
          "metadata": {
            "needs_background": "light"
          }
        }
      ]
    },
    {
      "cell_type": "code",
      "source": [
        "#Step 5\n",
        "#Hvad fortæller grafen dig om dataen?\n"
      ],
      "metadata": {
        "id": "Q_OOG6Iyzdtb"
      },
      "execution_count": null,
      "outputs": []
    },
    {
      "cell_type": "code",
      "source": [
        "# Kan du lave den samme øvelse med opgave 2.17 (dataset XR02-17)?"
      ],
      "metadata": {
        "id": "SrDw--q-zrKs"
      },
      "execution_count": null,
      "outputs": []
    },
    {
      "cell_type": "code",
      "source": [
        "#Step 1"
      ],
      "metadata": {
        "id": "M-5g2G0cz0X9"
      },
      "execution_count": null,
      "outputs": []
    },
    {
      "cell_type": "code",
      "source": [
        "#Step 2"
      ],
      "metadata": {
        "id": "41jS-UDpz3Lk"
      },
      "execution_count": null,
      "outputs": []
    },
    {
      "cell_type": "code",
      "source": [
        "#Step 3\n",
        "#Bonus opgave, se hvordan man tilføjer søjle til dataset: https://youtu.be/IKiDSOUTQX8\n",
        "#se hint i opgave"
      ],
      "metadata": {
        "id": "PhSyRF5Tz5Cs"
      },
      "execution_count": null,
      "outputs": []
    },
    {
      "cell_type": "code",
      "source": [
        "#Step 4"
      ],
      "metadata": {
        "id": "UjwXeIg_z7gT"
      },
      "execution_count": null,
      "outputs": []
    },
    {
      "cell_type": "code",
      "source": [
        "#Step 5"
      ],
      "metadata": {
        "id": "MiIdpuanz9W-"
      },
      "execution_count": null,
      "outputs": []
    },
    {
      "cell_type": "markdown",
      "source": [
        "# Scatter plot"
      ],
      "metadata": {
        "id": "nrskcZVu0HTy"
      }
    },
    {
      "cell_type": "markdown",
      "source": [
        "Opgave 3.54 som eksempel på hvordan man laver en scatter plot til at visualisere data."
      ],
      "metadata": {
        "id": "zjB1O5AB_u_m"
      }
    },
    {
      "cell_type": "code",
      "source": [
        "#Step 1\n",
        "# import pandas to read dataset\n",
        "\n",
        "import pandas as pd\n",
        "\n",
        "#Read data (exercise 03-12)\n",
        "df = pd.read_excel('https://raw.githubusercontent.com/louisehviid/km2023/main/data/Chapter3/Xr03-54.xlsx')\n"
      ],
      "metadata": {
        "id": "uUMpkNAQ0ak0"
      },
      "execution_count": null,
      "outputs": []
    },
    {
      "cell_type": "code",
      "source": [
        "\n",
        "\n",
        "#Step 2\n",
        "#Check dit dataset og se hvad variabler du har at arbejde med\n",
        "\n",
        "df.head\n"
      ],
      "metadata": {
        "colab": {
          "base_uri": "https://localhost:8080/"
        },
        "id": "3QFcqKV50dFA",
        "outputId": "bd410d24-1b11-4bfb-c212-57c7d14fad43"
      },
      "execution_count": null,
      "outputs": [
        {
          "output_type": "execute_result",
          "data": {
            "text/plain": [
              "<bound method NDFrame.head of    Speed  Cost\n",
              "0      3    88\n",
              "1      6   124\n",
              "2      9   358\n",
              "3     12   519\n",
              "4     15   699\n",
              "5     18   816\n",
              "6     21   905\n",
              "7     24  1521\n",
              "8     27  1888\n",
              "9     30  2201>"
            ]
          },
          "metadata": {},
          "execution_count": 44
        }
      ]
    },
    {
      "cell_type": "code",
      "source": [
        "#Step 3\n",
        "#Using Matplotlib to create a scatterplot\n",
        "import matplotlib.pyplot as plt\n",
        "\n",
        "# Select the columns to use as x and y data\n",
        "x = df[\"Speed\"]\n",
        "y = df[\"Cost\"]\n",
        "\n",
        "# Plot the scatter plot\n",
        "plt.scatter(x, y)\n",
        "\n",
        "# Add labels and title\n",
        "plt.xlabel(\"Speed\")\n",
        "plt.ylabel(\"Cost\")\n",
        "plt.title(\"Cost of Speed \")\n",
        "\n",
        "# Show the plot\n",
        "plt.show()\n",
        "\n",
        "\n"
      ],
      "metadata": {
        "colab": {
          "base_uri": "https://localhost:8080/",
          "height": 295
        },
        "id": "lvbw2jss0etH",
        "outputId": "da2c3c19-12de-4b42-bde3-9db7dad62b4f"
      },
      "execution_count": null,
      "outputs": [
        {
          "output_type": "display_data",
          "data": {
            "text/plain": [
              "<Figure size 432x288 with 1 Axes>"
            ],
            "image/png": "[encoded data removed]"
          },
          "metadata": {
            "needs_background": "light"
          }
        }
      ]
    },
    {
      "cell_type": "code",
      "source": [
        "#Step 4\n",
        "#Hvad fortæller grafen dig om dataen?"
      ],
      "metadata": {
        "id": "HESbslmF2-wN"
      },
      "execution_count": null,
      "outputs": []
    },
    {
      "cell_type": "code",
      "source": [
        "# Kan du lave den samme øvelse med opgave 3-56 (med dataset XR03-56)?"
      ],
      "metadata": {
        "id": "EVHnPYuq3P3r"
      },
      "execution_count": null,
      "outputs": []
    },
    {
      "cell_type": "code",
      "source": [
        "#Step 1"
      ],
      "metadata": {
        "id": "GJb8UrA_3Wgi"
      },
      "execution_count": null,
      "outputs": []
    },
    {
      "cell_type": "code",
      "source": [
        "#Step 2"
      ],
      "metadata": {
        "id": "PLpA78fQ3YIm"
      },
      "execution_count": null,
      "outputs": []
    },
    {
      "cell_type": "code",
      "source": [
        "#Step 3"
      ],
      "metadata": {
        "id": "proVvXzp3as2"
      },
      "execution_count": null,
      "outputs": []
    },
    {
      "cell_type": "code",
      "source": [
        "#Step 4"
      ],
      "metadata": {
        "id": "JHOi9S7v3clJ"
      },
      "execution_count": null,
      "outputs": []
    }
  ]
}